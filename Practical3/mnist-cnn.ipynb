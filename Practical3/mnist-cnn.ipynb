{
 "cells": [
  {
   "cell_type": "markdown",
   "id": "f8242425-0b91-4c5c-8721-3efdd1abe5f6",
   "metadata": {},
   "source": [
    "# 19BCE123: JASH MAVANI\n",
    "\n",
    "## Practical 3\n",
    "\n",
    "Kaggle: Digit Recognizer (Digit Recognizer | Kaggle) using CNN"
   ]
  },
  {
   "cell_type": "code",
   "execution_count": 1,
   "id": "513cdef2",
   "metadata": {
    "_cell_guid": "b1076dfc-b9ad-4769-8c92-a6c4dae69d19",
    "_uuid": "8f2839f25d086af736a60e9eeb907d3b93b6e0e5",
    "execution": {
     "iopub.execute_input": "2022-05-04T17:44:15.939003Z",
     "iopub.status.busy": "2022-05-04T17:44:15.937507Z",
     "iopub.status.idle": "2022-05-04T17:44:21.938881Z",
     "shell.execute_reply": "2022-05-04T17:44:21.939450Z",
     "shell.execute_reply.started": "2022-05-04T17:07:12.721981Z"
    },
    "papermill": {
     "duration": 6.022845,
     "end_time": "2022-05-04T17:44:21.939771",
     "exception": false,
     "start_time": "2022-05-04T17:44:15.916926",
     "status": "completed"
    },
    "tags": []
   },
   "outputs": [
    {
     "name": "stdout",
     "output_type": "stream",
     "text": [
      "/kaggle/input/digit-recognizer/sample_submission.csv\n",
      "/kaggle/input/digit-recognizer/train.csv\n",
      "/kaggle/input/digit-recognizer/test.csv\n"
     ]
    }
   ],
   "source": [
    "# This Python 3 environment comes with many helpful analytics libraries installed\n",
    "# It is defined by the kaggle/python Docker image: https://github.com/kaggle/docker-python\n",
    "# For example, here's several helpful packages to load\n",
    "\n",
    "import numpy as np # linear algebra\n",
    "import pandas as pd # data processing, CSV file I/O (e.g. pd.read_csv)\n",
    "\n",
    "from tensorflow import keras\n",
    "from keras import Sequential\n",
    "from keras.layers import Dense, Conv2D, Flatten, BatchNormalization, Activation\n",
    "from keras.utils.np_utils import to_categorical\n",
    "from keras.callbacks import ReduceLROnPlateau\n",
    "from keras.preprocessing.image import ImageDataGenerator\n",
    "from sklearn.model_selection import train_test_split\n",
    "from tensorflow.keras.optimizers import SGD, Adam\n",
    "\n",
    "# Input data files are available in the read-only \"../input/\" directory\n",
    "# For example, running this (by clicking run or pressing Shift+Enter) will list all files under the input directory\n",
    "\n",
    "import os\n",
    "for dirname, _, filenames in os.walk('/kaggle/input'):\n",
    "    for filename in filenames:\n",
    "        print(os.path.join(dirname, filename))\n",
    "\n",
    "# You can write up to 20GB to the current directory (/kaggle/working/) that gets preserved as output when you create a version using \"Save & Run All\" \n",
    "# You can also write temporary files to /kaggle/temp/, but they won't be saved outside of the current session"
   ]
  },
  {
   "cell_type": "code",
   "execution_count": 2,
   "id": "fdf40b51",
   "metadata": {
    "execution": {
     "iopub.execute_input": "2022-05-04T17:44:21.978333Z",
     "iopub.status.busy": "2022-05-04T17:44:21.977731Z",
     "iopub.status.idle": "2022-05-04T17:44:27.007598Z",
     "shell.execute_reply": "2022-05-04T17:44:27.006908Z",
     "shell.execute_reply.started": "2022-05-04T17:07:18.739913Z"
    },
    "papermill": {
     "duration": 5.050834,
     "end_time": "2022-05-04T17:44:27.007755",
     "exception": false,
     "start_time": "2022-05-04T17:44:21.956921",
     "status": "completed"
    },
    "tags": []
   },
   "outputs": [],
   "source": [
    "train = pd.read_csv(\"../input/digit-recognizer/train.csv\",header='infer').values\n",
    "x_test = pd.read_csv(\"../input/digit-recognizer/test.csv\",header='infer').values"
   ]
  },
  {
   "cell_type": "code",
   "execution_count": 3,
   "id": "39bdf48e",
   "metadata": {
    "execution": {
     "iopub.execute_input": "2022-05-04T17:44:27.054317Z",
     "iopub.status.busy": "2022-05-04T17:44:27.052749Z",
     "iopub.status.idle": "2022-05-04T17:44:27.057344Z",
     "shell.execute_reply": "2022-05-04T17:44:27.056864Z",
     "shell.execute_reply.started": "2022-05-04T17:07:23.445941Z"
    },
    "papermill": {
     "duration": 0.032379,
     "end_time": "2022-05-04T17:44:27.057468",
     "exception": false,
     "start_time": "2022-05-04T17:44:27.025089",
     "status": "completed"
    },
    "tags": []
   },
   "outputs": [
    {
     "data": {
      "text/plain": [
       "array([[1, 0, 0, ..., 0, 0, 0],\n",
       "       [0, 0, 0, ..., 0, 0, 0],\n",
       "       [1, 0, 0, ..., 0, 0, 0],\n",
       "       ...,\n",
       "       [7, 0, 0, ..., 0, 0, 0],\n",
       "       [6, 0, 0, ..., 0, 0, 0],\n",
       "       [9, 0, 0, ..., 0, 0, 0]])"
      ]
     },
     "execution_count": 3,
     "metadata": {},
     "output_type": "execute_result"
    }
   ],
   "source": [
    "train"
   ]
  },
  {
   "cell_type": "code",
   "execution_count": 4,
   "id": "301e41eb",
   "metadata": {
    "execution": {
     "iopub.execute_input": "2022-05-04T17:44:27.097407Z",
     "iopub.status.busy": "2022-05-04T17:44:27.096811Z",
     "iopub.status.idle": "2022-05-04T17:44:27.102030Z",
     "shell.execute_reply": "2022-05-04T17:44:27.102472Z",
     "shell.execute_reply.started": "2022-05-04T17:07:23.457437Z"
    },
    "papermill": {
     "duration": 0.027533,
     "end_time": "2022-05-04T17:44:27.102623",
     "exception": false,
     "start_time": "2022-05-04T17:44:27.075090",
     "status": "completed"
    },
    "tags": []
   },
   "outputs": [
    {
     "data": {
      "text/plain": [
       "(42000, 785)"
      ]
     },
     "execution_count": 4,
     "metadata": {},
     "output_type": "execute_result"
    }
   ],
   "source": [
    "train.shape"
   ]
  },
  {
   "cell_type": "code",
   "execution_count": 5,
   "id": "9feebfbb",
   "metadata": {
    "execution": {
     "iopub.execute_input": "2022-05-04T17:44:27.143743Z",
     "iopub.status.busy": "2022-05-04T17:44:27.143130Z",
     "iopub.status.idle": "2022-05-04T17:44:27.148670Z",
     "shell.execute_reply": "2022-05-04T17:44:27.148172Z",
     "shell.execute_reply.started": "2022-05-04T17:07:23.477620Z"
    },
    "papermill": {
     "duration": 0.028618,
     "end_time": "2022-05-04T17:44:27.148793",
     "exception": false,
     "start_time": "2022-05-04T17:44:27.120175",
     "status": "completed"
    },
    "tags": []
   },
   "outputs": [
    {
     "data": {
      "text/plain": [
       "(42000, 784)"
      ]
     },
     "execution_count": 5,
     "metadata": {},
     "output_type": "execute_result"
    }
   ],
   "source": [
    "x_train = train[:,1:]\n",
    "y_train = train[:,0]\n",
    "x_train.shape"
   ]
  },
  {
   "cell_type": "code",
   "execution_count": 6,
   "id": "6a39cc25",
   "metadata": {
    "execution": {
     "iopub.execute_input": "2022-05-04T17:44:27.190546Z",
     "iopub.status.busy": "2022-05-04T17:44:27.189867Z",
     "iopub.status.idle": "2022-05-04T17:44:27.192743Z",
     "shell.execute_reply": "2022-05-04T17:44:27.193136Z",
     "shell.execute_reply.started": "2022-05-04T17:07:23.486539Z"
    },
    "papermill": {
     "duration": 0.026333,
     "end_time": "2022-05-04T17:44:27.193269",
     "exception": false,
     "start_time": "2022-05-04T17:44:27.166936",
     "status": "completed"
    },
    "tags": []
   },
   "outputs": [
    {
     "data": {
      "text/plain": [
       "(28000, 784)"
      ]
     },
     "execution_count": 6,
     "metadata": {},
     "output_type": "execute_result"
    }
   ],
   "source": [
    "x_test.shape"
   ]
  },
  {
   "cell_type": "code",
   "execution_count": 7,
   "id": "6e0c7011",
   "metadata": {
    "execution": {
     "iopub.execute_input": "2022-05-04T17:44:27.232877Z",
     "iopub.status.busy": "2022-05-04T17:44:27.231912Z",
     "iopub.status.idle": "2022-05-04T17:44:27.405866Z",
     "shell.execute_reply": "2022-05-04T17:44:27.406365Z",
     "shell.execute_reply.started": "2022-05-04T17:07:23.495209Z"
    },
    "papermill": {
     "duration": 0.19592,
     "end_time": "2022-05-04T17:44:27.406557",
     "exception": false,
     "start_time": "2022-05-04T17:44:27.210637",
     "status": "completed"
    },
    "tags": []
   },
   "outputs": [],
   "source": [
    "x_train=x_train/255.\n",
    "x_test=x_test/255."
   ]
  },
  {
   "cell_type": "code",
   "execution_count": 8,
   "id": "ba37186b",
   "metadata": {
    "execution": {
     "iopub.execute_input": "2022-05-04T17:44:27.446241Z",
     "iopub.status.busy": "2022-05-04T17:44:27.445692Z",
     "iopub.status.idle": "2022-05-04T17:44:27.450143Z",
     "shell.execute_reply": "2022-05-04T17:44:27.450584Z",
     "shell.execute_reply.started": "2022-05-04T17:07:23.678665Z"
    },
    "papermill": {
     "duration": 0.026466,
     "end_time": "2022-05-04T17:44:27.450726",
     "exception": false,
     "start_time": "2022-05-04T17:44:27.424260",
     "status": "completed"
    },
    "tags": []
   },
   "outputs": [
    {
     "data": {
      "text/plain": [
       "(42000, 784)"
      ]
     },
     "execution_count": 8,
     "metadata": {},
     "output_type": "execute_result"
    }
   ],
   "source": [
    "x_train.shape"
   ]
  },
  {
   "cell_type": "code",
   "execution_count": 9,
   "id": "00137061",
   "metadata": {
    "execution": {
     "iopub.execute_input": "2022-05-04T17:44:27.490201Z",
     "iopub.status.busy": "2022-05-04T17:44:27.489555Z",
     "iopub.status.idle": "2022-05-04T17:44:27.492382Z",
     "shell.execute_reply": "2022-05-04T17:44:27.491913Z",
     "shell.execute_reply.started": "2022-05-04T17:07:23.687132Z"
    },
    "papermill": {
     "duration": 0.024565,
     "end_time": "2022-05-04T17:44:27.492502",
     "exception": false,
     "start_time": "2022-05-04T17:44:27.467937",
     "status": "completed"
    },
    "tags": []
   },
   "outputs": [],
   "source": [
    "x_train=x_train.reshape(-1,28,28,1)\n",
    "x_test = x_test.reshape(-1,28,28,1)"
   ]
  },
  {
   "cell_type": "code",
   "execution_count": 10,
   "id": "e0a5e46a",
   "metadata": {
    "execution": {
     "iopub.execute_input": "2022-05-04T17:44:27.535322Z",
     "iopub.status.busy": "2022-05-04T17:44:27.534537Z",
     "iopub.status.idle": "2022-05-04T17:44:27.537313Z",
     "shell.execute_reply": "2022-05-04T17:44:27.537715Z",
     "shell.execute_reply.started": "2022-05-04T17:07:23.694202Z"
    },
    "papermill": {
     "duration": 0.025885,
     "end_time": "2022-05-04T17:44:27.537851",
     "exception": false,
     "start_time": "2022-05-04T17:44:27.511966",
     "status": "completed"
    },
    "tags": []
   },
   "outputs": [
    {
     "data": {
      "text/plain": [
       "(28000, 28, 28, 1)"
      ]
     },
     "execution_count": 10,
     "metadata": {},
     "output_type": "execute_result"
    }
   ],
   "source": [
    "x_train.shape\n",
    "x_test.shape"
   ]
  },
  {
   "cell_type": "code",
   "execution_count": 11,
   "id": "ab4277a2",
   "metadata": {
    "execution": {
     "iopub.execute_input": "2022-05-04T17:44:27.577520Z",
     "iopub.status.busy": "2022-05-04T17:44:27.576983Z",
     "iopub.status.idle": "2022-05-04T17:44:27.586144Z",
     "shell.execute_reply": "2022-05-04T17:44:27.586609Z",
     "shell.execute_reply.started": "2022-05-04T17:07:23.704684Z"
    },
    "papermill": {
     "duration": 0.031207,
     "end_time": "2022-05-04T17:44:27.586756",
     "exception": false,
     "start_time": "2022-05-04T17:44:27.555549",
     "status": "completed"
    },
    "tags": []
   },
   "outputs": [],
   "source": [
    "adam = Adam(learning_rate=0.005)"
   ]
  },
  {
   "cell_type": "code",
   "execution_count": 12,
   "id": "75002af5",
   "metadata": {
    "execution": {
     "iopub.execute_input": "2022-05-04T17:44:27.640535Z",
     "iopub.status.busy": "2022-05-04T17:44:27.639630Z",
     "iopub.status.idle": "2022-05-04T17:44:27.642098Z",
     "shell.execute_reply": "2022-05-04T17:44:27.641674Z",
     "shell.execute_reply.started": "2022-05-04T17:07:23.721355Z"
    },
    "papermill": {
     "duration": 0.037633,
     "end_time": "2022-05-04T17:44:27.642221",
     "exception": false,
     "start_time": "2022-05-04T17:44:27.604588",
     "status": "completed"
    },
    "tags": []
   },
   "outputs": [],
   "source": [
    "\n",
    "def Model_3():\n",
    "    model=Sequential()\n",
    "    model.add( Conv2D(filters=32, kernel_size=(3,3), strides=(1,1), padding='valid', activation=None, use_bias=False, input_shape=(x_train.shape[1:])) )\n",
    "    model.add(BatchNormalization())\n",
    "    model.add(Activation('relu'))\n",
    "    \n",
    "    model.add( Conv2D(filters=48, kernel_size=(3,3), strides=(1,1), padding='valid', activation=None, use_bias=False) )\n",
    "    model.add(BatchNormalization())\n",
    "    model.add(Activation('relu'))\n",
    "    \n",
    "    model.add( Conv2D(filters=64, kernel_size=(3,3), strides=(1,1), padding='valid', activation=None, use_bias=False) )\n",
    "    model.add(BatchNormalization())\n",
    "    model.add(Activation('relu'))\n",
    "    \n",
    "    model.add( Conv2D(filters=80, kernel_size=(3,3), strides=(1,1), padding='valid', activation=None, use_bias=False) )\n",
    "    model.add(BatchNormalization())\n",
    "    model.add(Activation('relu'))\n",
    "    \n",
    "    model.add( Conv2D(filters=96, kernel_size=(3,3), strides=(1,1), padding='valid', activation=None, use_bias=False) )\n",
    "    model.add(BatchNormalization())\n",
    "    model.add(Activation('relu'))\n",
    "    \n",
    "    model.add( Conv2D(filters=112, kernel_size=(3,3), strides=(1,1), padding='valid', activation=None, use_bias=False) )\n",
    "    model.add(BatchNormalization())\n",
    "    model.add(Activation('relu'))\n",
    "    \n",
    "    model.add( Conv2D(filters=128, kernel_size=(3,3), strides=(1,1), padding='valid', activation=None, use_bias=False) )\n",
    "    model.add(BatchNormalization())\n",
    "    model.add(Activation('relu'))\n",
    "    \n",
    "    model.add( Conv2D(filters=144, kernel_size=(3,3), strides=(1,1), padding='valid', activation=None, use_bias=False) )\n",
    "    model.add(BatchNormalization())\n",
    "    model.add(Activation('relu'))\n",
    "    \n",
    "    model.add( Conv2D(filters=160, kernel_size=(3,3), strides=(1,1), padding='valid', activation=None, use_bias=False) )\n",
    "    model.add(BatchNormalization())\n",
    "    model.add(Activation('relu'))\n",
    "    \n",
    "    model.add( Conv2D(filters=176, kernel_size=(3,3), strides=(1,1), padding='valid', activation=None, use_bias=False) )\n",
    "    model.add(BatchNormalization())\n",
    "    model.add(Activation('relu'))\n",
    "    \n",
    "    model.add(Flatten())\n",
    "    \n",
    "    model.add(Dense(units=10))\n",
    "    model.add(BatchNormalization())\n",
    "    model.add(Activation('softmax'))\n",
    "    model.compile(loss='categorical_crossentropy', optimizer=adam, metrics=['accuracy'])\n",
    "    return model"
   ]
  },
  {
   "cell_type": "code",
   "execution_count": 13,
   "id": "6becfd06",
   "metadata": {
    "execution": {
     "iopub.execute_input": "2022-05-04T17:44:27.683073Z",
     "iopub.status.busy": "2022-05-04T17:44:27.682555Z",
     "iopub.status.idle": "2022-05-04T17:44:30.854589Z",
     "shell.execute_reply": "2022-05-04T17:44:30.855213Z",
     "shell.execute_reply.started": "2022-05-04T17:07:23.742926Z"
    },
    "papermill": {
     "duration": 3.19554,
     "end_time": "2022-05-04T17:44:30.855461",
     "exception": false,
     "start_time": "2022-05-04T17:44:27.659921",
     "status": "completed"
    },
    "tags": []
   },
   "outputs": [
    {
     "name": "stderr",
     "output_type": "stream",
     "text": [
      "2022-05-04 17:44:27.763474: I tensorflow/stream_executor/cuda/cuda_gpu_executor.cc:937] successful NUMA node read from SysFS had negative value (-1), but there must be at least one NUMA node, so returning NUMA node zero\n",
      "2022-05-04 17:44:27.862635: I tensorflow/stream_executor/cuda/cuda_gpu_executor.cc:937] successful NUMA node read from SysFS had negative value (-1), but there must be at least one NUMA node, so returning NUMA node zero\n",
      "2022-05-04 17:44:27.863433: I tensorflow/stream_executor/cuda/cuda_gpu_executor.cc:937] successful NUMA node read from SysFS had negative value (-1), but there must be at least one NUMA node, so returning NUMA node zero\n",
      "2022-05-04 17:44:27.864612: I tensorflow/core/platform/cpu_feature_guard.cc:142] This TensorFlow binary is optimized with oneAPI Deep Neural Network Library (oneDNN) to use the following CPU instructions in performance-critical operations:  AVX2 AVX512F FMA\n",
      "To enable them in other operations, rebuild TensorFlow with the appropriate compiler flags.\n",
      "2022-05-04 17:44:27.865610: I tensorflow/stream_executor/cuda/cuda_gpu_executor.cc:937] successful NUMA node read from SysFS had negative value (-1), but there must be at least one NUMA node, so returning NUMA node zero\n",
      "2022-05-04 17:44:27.866312: I tensorflow/stream_executor/cuda/cuda_gpu_executor.cc:937] successful NUMA node read from SysFS had negative value (-1), but there must be at least one NUMA node, so returning NUMA node zero\n",
      "2022-05-04 17:44:27.866936: I tensorflow/stream_executor/cuda/cuda_gpu_executor.cc:937] successful NUMA node read from SysFS had negative value (-1), but there must be at least one NUMA node, so returning NUMA node zero\n",
      "2022-05-04 17:44:29.671059: I tensorflow/stream_executor/cuda/cuda_gpu_executor.cc:937] successful NUMA node read from SysFS had negative value (-1), but there must be at least one NUMA node, so returning NUMA node zero\n",
      "2022-05-04 17:44:29.671927: I tensorflow/stream_executor/cuda/cuda_gpu_executor.cc:937] successful NUMA node read from SysFS had negative value (-1), but there must be at least one NUMA node, so returning NUMA node zero\n",
      "2022-05-04 17:44:29.672634: I tensorflow/stream_executor/cuda/cuda_gpu_executor.cc:937] successful NUMA node read from SysFS had negative value (-1), but there must be at least one NUMA node, so returning NUMA node zero\n",
      "2022-05-04 17:44:29.673227: I tensorflow/core/common_runtime/gpu/gpu_device.cc:1510] Created device /job:localhost/replica:0/task:0/device:GPU:0 with 15403 MB memory:  -> device: 0, name: Tesla P100-PCIE-16GB, pci bus id: 0000:00:04.0, compute capability: 6.0\n"
     ]
    }
   ],
   "source": [
    "model3=Model_3()\n",
    "\n",
    "y_train_vectors=to_categorical(y_train)\n",
    "\n",
    "X_train, X_val, y_train, y_val= train_test_split(x_train, y_train_vectors, test_size=0.2, random_state=2)"
   ]
  },
  {
   "cell_type": "code",
   "execution_count": 14,
   "id": "fcf81cf5",
   "metadata": {
    "execution": {
     "iopub.execute_input": "2022-05-04T17:44:30.933853Z",
     "iopub.status.busy": "2022-05-04T17:44:30.932400Z",
     "iopub.status.idle": "2022-05-04T18:17:50.791989Z",
     "shell.execute_reply": "2022-05-04T18:17:50.792781Z",
     "shell.execute_reply.started": "2022-05-04T17:07:26.538855Z"
    },
    "papermill": {
     "duration": 1999.908484,
     "end_time": "2022-05-04T18:17:50.793027",
     "exception": false,
     "start_time": "2022-05-04T17:44:30.884543",
     "status": "completed"
    },
    "tags": []
   },
   "outputs": [
    {
     "name": "stderr",
     "output_type": "stream",
     "text": [
      "2022-05-04 17:44:31.101308: I tensorflow/compiler/mlir/mlir_graph_optimization_pass.cc:185] None of the MLIR Optimization Passes are enabled (registered 2)\n"
     ]
    },
    {
     "name": "stdout",
     "output_type": "stream",
     "text": [
      "Epoch 1/150\n"
     ]
    },
    {
     "name": "stderr",
     "output_type": "stream",
     "text": [
      "2022-05-04 17:44:32.957092: I tensorflow/stream_executor/cuda/cuda_dnn.cc:369] Loaded cuDNN version 8005\n"
     ]
    },
    {
     "name": "stdout",
     "output_type": "stream",
     "text": [
      "280/280 [==============================] - 19s 41ms/step - loss: 0.4148 - accuracy: 0.9125 - val_loss: 0.7289 - val_accuracy: 0.7865\n",
      "Epoch 2/150\n",
      "280/280 [==============================] - 11s 40ms/step - loss: 0.1243 - accuracy: 0.9731 - val_loss: 0.1333 - val_accuracy: 0.9626\n",
      "Epoch 3/150\n",
      "280/280 [==============================] - 12s 42ms/step - loss: 0.0933 - accuracy: 0.9774 - val_loss: 0.0677 - val_accuracy: 0.9815\n",
      "Epoch 4/150\n",
      "280/280 [==============================] - 11s 40ms/step - loss: 0.0712 - accuracy: 0.9818 - val_loss: 0.1686 - val_accuracy: 0.9573\n",
      "Epoch 5/150\n",
      "280/280 [==============================] - 12s 42ms/step - loss: 0.0641 - accuracy: 0.9835 - val_loss: 0.0343 - val_accuracy: 0.9895\n",
      "Epoch 6/150\n",
      "280/280 [==============================] - 11s 40ms/step - loss: 0.0540 - accuracy: 0.9854 - val_loss: 0.0407 - val_accuracy: 0.9868\n",
      "Epoch 7/150\n",
      "280/280 [==============================] - 13s 45ms/step - loss: 0.0527 - accuracy: 0.9856 - val_loss: 0.0681 - val_accuracy: 0.9808\n",
      "Epoch 8/150\n",
      "280/280 [==============================] - 12s 43ms/step - loss: 0.0502 - accuracy: 0.9856 - val_loss: 0.0333 - val_accuracy: 0.9902\n",
      "Epoch 9/150\n",
      "280/280 [==============================] - 12s 42ms/step - loss: 0.0469 - accuracy: 0.9866 - val_loss: 0.0411 - val_accuracy: 0.9883\n",
      "Epoch 10/150\n",
      "280/280 [==============================] - 11s 40ms/step - loss: 0.0473 - accuracy: 0.9863 - val_loss: 0.0468 - val_accuracy: 0.9850\n",
      "Epoch 11/150\n",
      "280/280 [==============================] - 12s 43ms/step - loss: 0.0414 - accuracy: 0.9882 - val_loss: 0.0432 - val_accuracy: 0.9880\n",
      "Epoch 12/150\n",
      "280/280 [==============================] - 12s 42ms/step - loss: 0.0374 - accuracy: 0.9894 - val_loss: 0.0420 - val_accuracy: 0.9877\n",
      "Epoch 13/150\n",
      "280/280 [==============================] - 12s 42ms/step - loss: 0.0408 - accuracy: 0.9885 - val_loss: 0.0437 - val_accuracy: 0.9868\n",
      "Epoch 14/150\n",
      "280/280 [==============================] - 12s 42ms/step - loss: 0.0378 - accuracy: 0.9887 - val_loss: 0.0311 - val_accuracy: 0.9907\n",
      "Epoch 15/150\n",
      "280/280 [==============================] - 11s 40ms/step - loss: 0.0387 - accuracy: 0.9890 - val_loss: 0.0394 - val_accuracy: 0.9881\n",
      "Epoch 16/150\n",
      "280/280 [==============================] - 12s 44ms/step - loss: 0.0358 - accuracy: 0.9897 - val_loss: 0.0322 - val_accuracy: 0.9917\n",
      "Epoch 17/150\n",
      "280/280 [==============================] - 11s 40ms/step - loss: 0.0358 - accuracy: 0.9894 - val_loss: 0.0290 - val_accuracy: 0.9902\n",
      "Epoch 18/150\n",
      "280/280 [==============================] - 12s 45ms/step - loss: 0.0321 - accuracy: 0.9907 - val_loss: 0.0292 - val_accuracy: 0.9907\n",
      "Epoch 19/150\n",
      "280/280 [==============================] - 11s 41ms/step - loss: 0.0338 - accuracy: 0.9906 - val_loss: 0.0336 - val_accuracy: 0.9911\n",
      "Epoch 20/150\n",
      "280/280 [==============================] - 13s 46ms/step - loss: 0.0335 - accuracy: 0.9899 - val_loss: 0.0344 - val_accuracy: 0.9900\n",
      "Epoch 21/150\n",
      "280/280 [==============================] - 11s 40ms/step - loss: 0.0287 - accuracy: 0.9914 - val_loss: 0.0244 - val_accuracy: 0.9923\n",
      "Epoch 22/150\n",
      "280/280 [==============================] - 11s 40ms/step - loss: 0.0305 - accuracy: 0.9906 - val_loss: 0.0268 - val_accuracy: 0.9921\n",
      "Epoch 23/150\n",
      "280/280 [==============================] - 13s 46ms/step - loss: 0.0294 - accuracy: 0.9912 - val_loss: 0.0220 - val_accuracy: 0.9940\n",
      "Epoch 24/150\n",
      "280/280 [==============================] - 12s 41ms/step - loss: 0.0270 - accuracy: 0.9921 - val_loss: 0.0335 - val_accuracy: 0.9908\n",
      "Epoch 25/150\n",
      "280/280 [==============================] - 11s 41ms/step - loss: 0.0292 - accuracy: 0.9911 - val_loss: 0.0280 - val_accuracy: 0.9925\n",
      "Epoch 26/150\n",
      "280/280 [==============================] - 13s 46ms/step - loss: 0.0281 - accuracy: 0.9920 - val_loss: 0.0242 - val_accuracy: 0.9939\n",
      "Epoch 27/150\n",
      "280/280 [==============================] - 11s 40ms/step - loss: 0.0254 - accuracy: 0.9931 - val_loss: 0.0352 - val_accuracy: 0.9898\n",
      "Epoch 28/150\n",
      "280/280 [==============================] - 11s 40ms/step - loss: 0.0237 - accuracy: 0.9933 - val_loss: 0.0216 - val_accuracy: 0.9932\n",
      "Epoch 29/150\n",
      "280/280 [==============================] - 13s 46ms/step - loss: 0.0222 - accuracy: 0.9938 - val_loss: 0.0366 - val_accuracy: 0.9911\n",
      "Epoch 30/150\n",
      "280/280 [==============================] - 11s 40ms/step - loss: 0.0241 - accuracy: 0.9921 - val_loss: 0.0316 - val_accuracy: 0.9899\n",
      "Epoch 31/150\n",
      "280/280 [==============================] - 11s 41ms/step - loss: 0.0248 - accuracy: 0.9927 - val_loss: 0.0294 - val_accuracy: 0.9917\n",
      "Epoch 32/150\n",
      "280/280 [==============================] - 11s 40ms/step - loss: 0.0215 - accuracy: 0.9938 - val_loss: 0.0223 - val_accuracy: 0.9929\n",
      "Epoch 33/150\n",
      "280/280 [==============================] - 11s 40ms/step - loss: 0.0231 - accuracy: 0.9931 - val_loss: 0.0351 - val_accuracy: 0.9890\n",
      "Epoch 34/150\n",
      "280/280 [==============================] - 13s 47ms/step - loss: 0.0221 - accuracy: 0.9941 - val_loss: 0.0278 - val_accuracy: 0.9929\n",
      "Epoch 35/150\n",
      "280/280 [==============================] - 12s 42ms/step - loss: 0.0208 - accuracy: 0.9937 - val_loss: 0.0233 - val_accuracy: 0.9927\n",
      "Epoch 36/150\n",
      "280/280 [==============================] - 13s 47ms/step - loss: 0.0231 - accuracy: 0.9928 - val_loss: 0.0209 - val_accuracy: 0.9935\n",
      "Epoch 37/150\n",
      "280/280 [==============================] - 11s 41ms/step - loss: 0.0209 - accuracy: 0.9940 - val_loss: 0.0220 - val_accuracy: 0.9933\n",
      "Epoch 38/150\n",
      "280/280 [==============================] - 11s 40ms/step - loss: 0.0174 - accuracy: 0.9949 - val_loss: 0.0202 - val_accuracy: 0.9938\n",
      "Epoch 39/150\n",
      "280/280 [==============================] - 13s 46ms/step - loss: 0.0196 - accuracy: 0.9942 - val_loss: 0.0287 - val_accuracy: 0.9918\n",
      "Epoch 40/150\n",
      "280/280 [==============================] - 11s 40ms/step - loss: 0.0224 - accuracy: 0.9938 - val_loss: 0.0224 - val_accuracy: 0.9940\n",
      "Epoch 41/150\n",
      "280/280 [==============================] - 12s 42ms/step - loss: 0.0139 - accuracy: 0.9959 - val_loss: 0.0252 - val_accuracy: 0.9927\n",
      "Epoch 42/150\n",
      "280/280 [==============================] - 13s 48ms/step - loss: 0.0151 - accuracy: 0.9951 - val_loss: 0.0195 - val_accuracy: 0.9948\n",
      "Epoch 43/150\n",
      "280/280 [==============================] - 11s 40ms/step - loss: 0.0176 - accuracy: 0.9943 - val_loss: 0.0235 - val_accuracy: 0.9940\n",
      "Epoch 44/150\n",
      "280/280 [==============================] - 12s 42ms/step - loss: 0.0186 - accuracy: 0.9943 - val_loss: 0.0230 - val_accuracy: 0.9933\n",
      "Epoch 45/150\n",
      "280/280 [==============================] - 13s 48ms/step - loss: 0.0147 - accuracy: 0.9958 - val_loss: 0.0326 - val_accuracy: 0.9906\n",
      "Epoch 46/150\n",
      "280/280 [==============================] - 11s 40ms/step - loss: 0.0169 - accuracy: 0.9948 - val_loss: 0.0294 - val_accuracy: 0.9917\n",
      "Epoch 47/150\n",
      "280/280 [==============================] - 12s 42ms/step - loss: 0.0128 - accuracy: 0.9962 - val_loss: 0.0261 - val_accuracy: 0.9931\n",
      "Epoch 48/150\n",
      "280/280 [==============================] - 13s 45ms/step - loss: 0.0150 - accuracy: 0.9952 - val_loss: 0.0304 - val_accuracy: 0.9910\n",
      "Epoch 49/150\n",
      "280/280 [==============================] - 11s 40ms/step - loss: 0.0157 - accuracy: 0.9953 - val_loss: 0.0207 - val_accuracy: 0.9944\n",
      "Epoch 50/150\n",
      "280/280 [==============================] - 13s 47ms/step - loss: 0.0147 - accuracy: 0.9953 - val_loss: 0.0310 - val_accuracy: 0.9911\n",
      "Epoch 51/150\n",
      "280/280 [==============================] - 11s 40ms/step - loss: 0.0153 - accuracy: 0.9952 - val_loss: 0.0239 - val_accuracy: 0.9930\n",
      "Epoch 52/150\n",
      "280/280 [==============================] - 12s 43ms/step - loss: 0.0156 - accuracy: 0.9951 - val_loss: 0.0276 - val_accuracy: 0.9935\n",
      "Epoch 53/150\n",
      "280/280 [==============================] - 13s 47ms/step - loss: 0.0155 - accuracy: 0.9952 - val_loss: 0.0229 - val_accuracy: 0.9933\n",
      "Epoch 54/150\n",
      "280/280 [==============================] - 11s 40ms/step - loss: 0.0117 - accuracy: 0.9963 - val_loss: 0.0213 - val_accuracy: 0.9942\n",
      "Epoch 55/150\n",
      "280/280 [==============================] - 12s 42ms/step - loss: 0.0126 - accuracy: 0.9965 - val_loss: 0.0247 - val_accuracy: 0.9940\n",
      "Epoch 56/150\n",
      "280/280 [==============================] - 14s 48ms/step - loss: 0.0121 - accuracy: 0.9962 - val_loss: 0.0284 - val_accuracy: 0.9930\n",
      "Epoch 57/150\n",
      "280/280 [==============================] - 12s 43ms/step - loss: 0.0138 - accuracy: 0.9957 - val_loss: 0.0211 - val_accuracy: 0.9948\n",
      "Epoch 58/150\n",
      "280/280 [==============================] - 12s 41ms/step - loss: 0.0145 - accuracy: 0.9955 - val_loss: 0.0252 - val_accuracy: 0.9930\n",
      "Epoch 59/150\n",
      "280/280 [==============================] - 13s 45ms/step - loss: 0.0105 - accuracy: 0.9965 - val_loss: 0.0239 - val_accuracy: 0.9943\n",
      "Epoch 60/150\n",
      "280/280 [==============================] - 11s 40ms/step - loss: 0.0123 - accuracy: 0.9963 - val_loss: 0.0332 - val_accuracy: 0.9908\n",
      "Epoch 61/150\n",
      "280/280 [==============================] - 13s 48ms/step - loss: 0.0108 - accuracy: 0.9967 - val_loss: 0.0285 - val_accuracy: 0.9929\n",
      "Epoch 62/150\n",
      "280/280 [==============================] - 12s 43ms/step - loss: 0.0127 - accuracy: 0.9960 - val_loss: 0.0245 - val_accuracy: 0.9936\n",
      "Epoch 63/150\n",
      "280/280 [==============================] - 12s 42ms/step - loss: 0.0113 - accuracy: 0.9969 - val_loss: 0.0252 - val_accuracy: 0.9924\n",
      "Epoch 64/150\n",
      "280/280 [==============================] - 12s 43ms/step - loss: 0.0110 - accuracy: 0.9967 - val_loss: 0.0243 - val_accuracy: 0.9929\n",
      "Epoch 65/150\n",
      "280/280 [==============================] - 11s 40ms/step - loss: 0.0121 - accuracy: 0.9964 - val_loss: 0.0221 - val_accuracy: 0.9933\n",
      "Epoch 66/150\n",
      "280/280 [==============================] - 12s 41ms/step - loss: 0.0132 - accuracy: 0.9960 - val_loss: 0.0204 - val_accuracy: 0.9939\n",
      "Epoch 67/150\n",
      "280/280 [==============================] - 11s 41ms/step - loss: 0.0128 - accuracy: 0.9960 - val_loss: 0.0270 - val_accuracy: 0.9932\n",
      "Epoch 68/150\n",
      "280/280 [==============================] - 14s 50ms/step - loss: 0.0105 - accuracy: 0.9968 - val_loss: 0.0185 - val_accuracy: 0.9954\n",
      "Epoch 69/150\n",
      "280/280 [==============================] - 12s 41ms/step - loss: 0.0082 - accuracy: 0.9974 - val_loss: 0.0194 - val_accuracy: 0.9938\n",
      "Epoch 70/150\n",
      "280/280 [==============================] - 11s 41ms/step - loss: 0.0075 - accuracy: 0.9979 - val_loss: 0.0230 - val_accuracy: 0.9939\n",
      "Epoch 71/150\n",
      "280/280 [==============================] - 15s 52ms/step - loss: 0.0107 - accuracy: 0.9969 - val_loss: 0.0408 - val_accuracy: 0.9895\n",
      "Epoch 72/150\n",
      "280/280 [==============================] - 11s 39ms/step - loss: 0.0100 - accuracy: 0.9971 - val_loss: 0.0399 - val_accuracy: 0.9893\n",
      "Epoch 73/150\n",
      "280/280 [==============================] - 11s 40ms/step - loss: 0.0105 - accuracy: 0.9969 - val_loss: 0.0229 - val_accuracy: 0.9927\n",
      "Epoch 74/150\n",
      "280/280 [==============================] - 15s 52ms/step - loss: 0.0085 - accuracy: 0.9973 - val_loss: 0.0282 - val_accuracy: 0.9921\n",
      "Epoch 75/150\n",
      "280/280 [==============================] - 12s 42ms/step - loss: 0.0091 - accuracy: 0.9974 - val_loss: 0.0180 - val_accuracy: 0.9944\n",
      "Epoch 76/150\n",
      "280/280 [==============================] - 11s 40ms/step - loss: 0.0082 - accuracy: 0.9975 - val_loss: 0.0182 - val_accuracy: 0.9956\n",
      "Epoch 77/150\n",
      "280/280 [==============================] - 12s 42ms/step - loss: 0.0057 - accuracy: 0.9982 - val_loss: 0.0248 - val_accuracy: 0.9930\n",
      "Epoch 78/150\n",
      "280/280 [==============================] - 11s 40ms/step - loss: 0.0130 - accuracy: 0.9959 - val_loss: 0.0297 - val_accuracy: 0.9932\n",
      "Epoch 79/150\n",
      "280/280 [==============================] - 13s 46ms/step - loss: 0.0102 - accuracy: 0.9971 - val_loss: 0.0277 - val_accuracy: 0.9920\n",
      "Epoch 80/150\n",
      "280/280 [==============================] - 11s 41ms/step - loss: 0.0098 - accuracy: 0.9972 - val_loss: 0.0360 - val_accuracy: 0.9907\n",
      "Epoch 81/150\n",
      "280/280 [==============================] - 11s 40ms/step - loss: 0.0072 - accuracy: 0.9979 - val_loss: 0.0250 - val_accuracy: 0.9948\n",
      "Epoch 82/150\n",
      "280/280 [==============================] - 12s 42ms/step - loss: 0.0071 - accuracy: 0.9979 - val_loss: 0.0204 - val_accuracy: 0.9958\n",
      "Epoch 83/150\n",
      "280/280 [==============================] - 12s 42ms/step - loss: 0.0080 - accuracy: 0.9974 - val_loss: 0.0306 - val_accuracy: 0.9930\n",
      "Epoch 84/150\n",
      "280/280 [==============================] - 13s 47ms/step - loss: 0.0088 - accuracy: 0.9974 - val_loss: 0.0266 - val_accuracy: 0.9939\n",
      "Epoch 85/150\n",
      "280/280 [==============================] - 13s 46ms/step - loss: 0.0072 - accuracy: 0.9980 - val_loss: 0.0233 - val_accuracy: 0.9944\n",
      "Epoch 86/150\n",
      "280/280 [==============================] - 12s 42ms/step - loss: 0.0072 - accuracy: 0.9978 - val_loss: 0.0206 - val_accuracy: 0.9952\n",
      "Epoch 87/150\n",
      "280/280 [==============================] - 12s 43ms/step - loss: 0.0076 - accuracy: 0.9977 - val_loss: 0.0222 - val_accuracy: 0.9936\n",
      "Epoch 88/150\n",
      "280/280 [==============================] - 11s 40ms/step - loss: 0.0058 - accuracy: 0.9980 - val_loss: 0.0220 - val_accuracy: 0.9954\n",
      "Epoch 89/150\n",
      "280/280 [==============================] - 14s 50ms/step - loss: 0.0083 - accuracy: 0.9976 - val_loss: 0.0245 - val_accuracy: 0.9946\n",
      "Epoch 90/150\n",
      "280/280 [==============================] - 11s 40ms/step - loss: 0.0099 - accuracy: 0.9968 - val_loss: 0.0269 - val_accuracy: 0.9937\n",
      "Epoch 91/150\n",
      "280/280 [==============================] - 12s 42ms/step - loss: 0.0072 - accuracy: 0.9979 - val_loss: 0.0248 - val_accuracy: 0.9936\n",
      "Epoch 92/150\n",
      "280/280 [==============================] - 11s 40ms/step - loss: 0.0064 - accuracy: 0.9981 - val_loss: 0.0305 - val_accuracy: 0.9926\n",
      "Epoch 93/150\n",
      "280/280 [==============================] - 12s 41ms/step - loss: 0.0071 - accuracy: 0.9981 - val_loss: 0.0313 - val_accuracy: 0.9937\n",
      "Epoch 94/150\n",
      "280/280 [==============================] - 15s 54ms/step - loss: 0.0073 - accuracy: 0.9979 - val_loss: 0.0275 - val_accuracy: 0.9933\n",
      "Epoch 95/150\n",
      "280/280 [==============================] - 11s 41ms/step - loss: 0.0054 - accuracy: 0.9982 - val_loss: 0.0282 - val_accuracy: 0.9937\n",
      "Epoch 96/150\n",
      "280/280 [==============================] - 12s 42ms/step - loss: 0.0089 - accuracy: 0.9971 - val_loss: 0.0175 - val_accuracy: 0.9952\n",
      "Epoch 97/150\n",
      "280/280 [==============================] - 11s 40ms/step - loss: 0.0069 - accuracy: 0.9978 - val_loss: 0.0239 - val_accuracy: 0.9937\n",
      "Epoch 98/150\n",
      "280/280 [==============================] - 11s 41ms/step - loss: 0.0081 - accuracy: 0.9975 - val_loss: 0.0210 - val_accuracy: 0.9949\n",
      "Epoch 99/150\n",
      "280/280 [==============================] - 13s 46ms/step - loss: 0.0043 - accuracy: 0.9986 - val_loss: 0.0308 - val_accuracy: 0.9937\n",
      "Epoch 100/150\n",
      "280/280 [==============================] - 13s 48ms/step - loss: 0.0069 - accuracy: 0.9979 - val_loss: 0.0215 - val_accuracy: 0.9940\n",
      "Epoch 101/150\n",
      "280/280 [==============================] - 11s 40ms/step - loss: 0.0084 - accuracy: 0.9974 - val_loss: 0.0229 - val_accuracy: 0.9949\n",
      "Epoch 102/150\n",
      "280/280 [==============================] - 12s 41ms/step - loss: 0.0081 - accuracy: 0.9977 - val_loss: 0.0251 - val_accuracy: 0.9944\n",
      "Epoch 103/150\n",
      "280/280 [==============================] - 11s 39ms/step - loss: 0.0044 - accuracy: 0.9988 - val_loss: 0.0247 - val_accuracy: 0.9940\n",
      "Epoch 104/150\n",
      "280/280 [==============================] - 11s 40ms/step - loss: 0.0073 - accuracy: 0.9979 - val_loss: 0.0236 - val_accuracy: 0.9944\n",
      "Epoch 105/150\n",
      "280/280 [==============================] - 14s 51ms/step - loss: 0.0058 - accuracy: 0.9982 - val_loss: 0.0199 - val_accuracy: 0.9946\n",
      "Epoch 106/150\n",
      "280/280 [==============================] - 11s 40ms/step - loss: 0.0051 - accuracy: 0.9982 - val_loss: 0.0207 - val_accuracy: 0.9955\n",
      "Epoch 107/150\n",
      "280/280 [==============================] - 12s 42ms/step - loss: 0.0046 - accuracy: 0.9986 - val_loss: 0.0255 - val_accuracy: 0.9937\n",
      "Epoch 108/150\n",
      "280/280 [==============================] - 11s 40ms/step - loss: 0.0056 - accuracy: 0.9985 - val_loss: 0.0249 - val_accuracy: 0.9942\n",
      "Epoch 109/150\n",
      "280/280 [==============================] - 11s 39ms/step - loss: 0.0062 - accuracy: 0.9982 - val_loss: 0.0294 - val_accuracy: 0.9925\n",
      "Epoch 110/150\n",
      "280/280 [==============================] - 15s 55ms/step - loss: 0.0052 - accuracy: 0.9985 - val_loss: 0.0233 - val_accuracy: 0.9944\n",
      "Epoch 111/150\n",
      "280/280 [==============================] - 12s 43ms/step - loss: 0.0065 - accuracy: 0.9977 - val_loss: 0.0326 - val_accuracy: 0.9933\n",
      "Epoch 112/150\n",
      "280/280 [==============================] - 11s 39ms/step - loss: 0.0060 - accuracy: 0.9979 - val_loss: 0.0266 - val_accuracy: 0.9945\n",
      "Epoch 113/150\n",
      "280/280 [==============================] - 12s 41ms/step - loss: 0.0077 - accuracy: 0.9976 - val_loss: 0.0215 - val_accuracy: 0.9944\n",
      "Epoch 114/150\n",
      "280/280 [==============================] - 12s 42ms/step - loss: 0.0039 - accuracy: 0.9988 - val_loss: 0.0222 - val_accuracy: 0.9946\n",
      "Epoch 115/150\n",
      "280/280 [==============================] - 11s 40ms/step - loss: 0.0044 - accuracy: 0.9987 - val_loss: 0.0245 - val_accuracy: 0.9943\n",
      "Epoch 116/150\n",
      "280/280 [==============================] - 15s 54ms/step - loss: 0.0054 - accuracy: 0.9984 - val_loss: 0.0272 - val_accuracy: 0.9937\n",
      "Epoch 117/150\n",
      "280/280 [==============================] - 12s 42ms/step - loss: 0.0064 - accuracy: 0.9981 - val_loss: 0.0238 - val_accuracy: 0.9951\n",
      "Epoch 118/150\n",
      "280/280 [==============================] - 11s 40ms/step - loss: 0.0075 - accuracy: 0.9977 - val_loss: 0.0215 - val_accuracy: 0.9950\n",
      "Epoch 119/150\n",
      "280/280 [==============================] - 11s 40ms/step - loss: 0.0065 - accuracy: 0.9983 - val_loss: 0.0264 - val_accuracy: 0.9937\n",
      "Epoch 120/150\n",
      "280/280 [==============================] - 12s 42ms/step - loss: 0.0048 - accuracy: 0.9987 - val_loss: 0.0268 - val_accuracy: 0.9925\n",
      "Epoch 121/150\n",
      "280/280 [==============================] - 12s 43ms/step - loss: 0.0045 - accuracy: 0.9984 - val_loss: 0.0294 - val_accuracy: 0.9940\n",
      "Epoch 122/150\n",
      "280/280 [==============================] - 16s 56ms/step - loss: 0.0061 - accuracy: 0.9983 - val_loss: 0.0264 - val_accuracy: 0.9943\n",
      "Epoch 123/150\n",
      "280/280 [==============================] - 11s 41ms/step - loss: 0.0064 - accuracy: 0.9979 - val_loss: 0.0220 - val_accuracy: 0.9938\n",
      "Epoch 124/150\n",
      "280/280 [==============================] - 11s 40ms/step - loss: 0.0038 - accuracy: 0.9989 - val_loss: 0.0207 - val_accuracy: 0.9951\n",
      "Epoch 125/150\n",
      "280/280 [==============================] - 12s 42ms/step - loss: 0.0041 - accuracy: 0.9986 - val_loss: 0.0258 - val_accuracy: 0.9945\n",
      "Epoch 126/150\n",
      "280/280 [==============================] - 12s 42ms/step - loss: 0.0062 - accuracy: 0.9981 - val_loss: 0.0212 - val_accuracy: 0.9954\n",
      "Epoch 127/150\n",
      "280/280 [==============================] - 13s 47ms/step - loss: 0.0062 - accuracy: 0.9982 - val_loss: 0.0228 - val_accuracy: 0.9948\n",
      "Epoch 128/150\n",
      "280/280 [==============================] - 11s 40ms/step - loss: 0.0047 - accuracy: 0.9987 - val_loss: 0.0233 - val_accuracy: 0.9933\n",
      "Epoch 129/150\n",
      "280/280 [==============================] - 11s 41ms/step - loss: 0.0039 - accuracy: 0.9987 - val_loss: 0.0225 - val_accuracy: 0.9944\n",
      "Epoch 130/150\n",
      "280/280 [==============================] - 12s 42ms/step - loss: 0.0071 - accuracy: 0.9976 - val_loss: 0.0272 - val_accuracy: 0.9940\n",
      "Epoch 131/150\n",
      "280/280 [==============================] - 11s 41ms/step - loss: 0.0042 - accuracy: 0.9987 - val_loss: 0.0224 - val_accuracy: 0.9950\n",
      "Epoch 132/150\n",
      "280/280 [==============================] - 11s 40ms/step - loss: 0.0031 - accuracy: 0.9991 - val_loss: 0.0261 - val_accuracy: 0.9951\n",
      "Epoch 133/150\n",
      "280/280 [==============================] - 17s 62ms/step - loss: 0.0040 - accuracy: 0.9989 - val_loss: 0.0207 - val_accuracy: 0.9945\n",
      "Epoch 134/150\n",
      "280/280 [==============================] - 11s 40ms/step - loss: 0.0033 - accuracy: 0.9990 - val_loss: 0.0222 - val_accuracy: 0.9949\n",
      "Epoch 135/150\n",
      "280/280 [==============================] - 12s 44ms/step - loss: 0.0049 - accuracy: 0.9984 - val_loss: 0.0400 - val_accuracy: 0.9921\n",
      "Epoch 136/150\n",
      "280/280 [==============================] - 12s 41ms/step - loss: 0.0053 - accuracy: 0.9982 - val_loss: 0.0227 - val_accuracy: 0.9944\n",
      "Epoch 137/150\n",
      "280/280 [==============================] - 11s 40ms/step - loss: 0.0052 - accuracy: 0.9986 - val_loss: 0.0315 - val_accuracy: 0.9945\n",
      "Epoch 138/150\n",
      "280/280 [==============================] - 13s 46ms/step - loss: 0.0041 - accuracy: 0.9989 - val_loss: 0.0252 - val_accuracy: 0.9943\n",
      "Epoch 139/150\n",
      "280/280 [==============================] - 12s 43ms/step - loss: 0.0070 - accuracy: 0.9980 - val_loss: 0.0367 - val_accuracy: 0.9904\n",
      "Epoch 140/150\n",
      "280/280 [==============================] - 12s 42ms/step - loss: 0.0037 - accuracy: 0.9987 - val_loss: 0.0210 - val_accuracy: 0.9949\n",
      "Epoch 141/150\n",
      "280/280 [==============================] - 12s 41ms/step - loss: 0.0043 - accuracy: 0.9987 - val_loss: 0.0198 - val_accuracy: 0.9945\n",
      "Epoch 142/150\n",
      "280/280 [==============================] - 12s 42ms/step - loss: 0.0059 - accuracy: 0.9980 - val_loss: 0.0337 - val_accuracy: 0.9929\n",
      "Epoch 143/150\n",
      "280/280 [==============================] - 16s 58ms/step - loss: 0.0047 - accuracy: 0.9985 - val_loss: 0.0209 - val_accuracy: 0.9957\n",
      "Epoch 144/150\n",
      "280/280 [==============================] - 12s 43ms/step - loss: 0.0046 - accuracy: 0.9986 - val_loss: 0.0233 - val_accuracy: 0.9944\n",
      "Epoch 145/150\n",
      "280/280 [==============================] - 11s 40ms/step - loss: 0.0047 - accuracy: 0.9984 - val_loss: 0.0248 - val_accuracy: 0.9948\n",
      "Epoch 146/150\n",
      "280/280 [==============================] - 11s 40ms/step - loss: 0.0042 - accuracy: 0.9986 - val_loss: 0.0301 - val_accuracy: 0.9942\n",
      "Epoch 147/150\n",
      "280/280 [==============================] - 12s 43ms/step - loss: 0.0045 - accuracy: 0.9984 - val_loss: 0.0229 - val_accuracy: 0.9945\n",
      "Epoch 148/150\n",
      "280/280 [==============================] - 12s 44ms/step - loss: 0.0045 - accuracy: 0.9987 - val_loss: 0.0236 - val_accuracy: 0.9956\n",
      "Epoch 149/150\n",
      "280/280 [==============================] - 18s 62ms/step - loss: 0.0031 - accuracy: 0.9991 - val_loss: 0.0214 - val_accuracy: 0.9955\n",
      "Epoch 150/150\n",
      "280/280 [==============================] - 11s 41ms/step - loss: 0.0049 - accuracy: 0.9985 - val_loss: 0.0341 - val_accuracy: 0.9925\n"
     ]
    },
    {
     "data": {
      "text/plain": [
       "<keras.callbacks.History at 0x7fe697889b50>"
      ]
     },
     "execution_count": 14,
     "metadata": {},
     "output_type": "execute_result"
    }
   ],
   "source": [
    "train_datagen = ImageDataGenerator(featurewise_center=False,\n",
    "                             samplewise_center=False,\n",
    "                             featurewise_std_normalization=False,\n",
    "                             samplewise_std_normalization=False,\n",
    "                             zca_whitening=False,\n",
    "                             rotation_range=10,\n",
    "                             zoom_range=0.1,\n",
    "                             width_shift_range=0.1,\n",
    "                             height_shift_range=0.1,\n",
    "                             horizontal_flip=False,\n",
    "                             vertical_flip=False\n",
    "                            )\n",
    "\n",
    "#Use flow method to pass images to fit method in the batches of size 120\n",
    "train_generator = train_datagen.flow(X_train, y_train,\n",
    "                                     batch_size=120,\n",
    "                                     shuffle=True)\n",
    "\n",
    "val_datagen = ImageDataGenerator()\n",
    "val_generator = val_datagen.flow(X_val, y_val,\n",
    "                                 batch_size=120,\n",
    "                                 shuffle=True)\n",
    "\n",
    "#Set how we plan to reduce learning rate on plateau\n",
    "reduceLROnPlateau = ReduceLROnPlateau(monitor='val_acc', \n",
    "                                patience=3,\n",
    "                                verbose=1, \n",
    "                                factor=0.5,\n",
    "                                min_lr=0.00001)\n",
    "\n",
    "\n",
    "#fit 3 CNNs\n",
    "model3.fit(train_generator, epochs=150, callbacks=[reduceLROnPlateau], validation_data=val_generator)"
   ]
  },
  {
   "cell_type": "code",
   "execution_count": 15,
   "id": "02fdffd5",
   "metadata": {
    "execution": {
     "iopub.execute_input": "2022-05-04T18:18:06.899256Z",
     "iopub.status.busy": "2022-05-04T18:18:06.898244Z",
     "iopub.status.idle": "2022-05-04T18:18:07.566674Z",
     "shell.execute_reply": "2022-05-04T18:18:07.566160Z",
     "shell.execute_reply.started": "2022-05-04T17:36:26.143088Z"
    },
    "papermill": {
     "duration": 8.456545,
     "end_time": "2022-05-04T18:18:07.566808",
     "exception": false,
     "start_time": "2022-05-04T18:17:59.110263",
     "status": "completed"
    },
    "tags": []
   },
   "outputs": [
    {
     "name": "stdout",
     "output_type": "stream",
     "text": [
      "70/70 [==============================] - 1s 8ms/step - loss: 0.0341 - accuracy: 0.9925\n"
     ]
    },
    {
     "data": {
      "text/plain": [
       "[0.03407209739089012, 0.9925000071525574]"
      ]
     },
     "execution_count": 15,
     "metadata": {},
     "output_type": "execute_result"
    }
   ],
   "source": [
    "model3.evaluate(val_generator)"
   ]
  },
  {
   "cell_type": "code",
   "execution_count": 16,
   "id": "d0eaba85",
   "metadata": {
    "execution": {
     "iopub.execute_input": "2022-05-04T18:18:23.187342Z",
     "iopub.status.busy": "2022-05-04T18:18:23.186315Z",
     "iopub.status.idle": "2022-05-04T18:18:25.613862Z",
     "shell.execute_reply": "2022-05-04T18:18:25.613410Z",
     "shell.execute_reply.started": "2022-05-04T17:36:27.456533Z"
    },
    "papermill": {
     "duration": 10.015035,
     "end_time": "2022-05-04T18:18:25.614000",
     "exception": false,
     "start_time": "2022-05-04T18:18:15.598965",
     "status": "completed"
    },
    "tags": []
   },
   "outputs": [
    {
     "name": "stdout",
     "output_type": "stream",
     "text": [
      "(28000, 10)\n"
     ]
    }
   ],
   "source": [
    "prediction=model3.predict(x_test)\n",
    "print(prediction.shape)\n",
    "predictions_final=np.argmax(prediction, axis=1)"
   ]
  },
  {
   "cell_type": "code",
   "execution_count": 17,
   "id": "43610b4c",
   "metadata": {
    "execution": {
     "iopub.execute_input": "2022-05-04T18:18:41.516468Z",
     "iopub.status.busy": "2022-05-04T18:18:41.515881Z",
     "iopub.status.idle": "2022-05-04T18:18:41.584087Z",
     "shell.execute_reply": "2022-05-04T18:18:41.583588Z",
     "shell.execute_reply.started": "2022-05-04T17:36:29.659112Z"
    },
    "papermill": {
     "duration": 7.897667,
     "end_time": "2022-05-04T18:18:41.584204",
     "exception": false,
     "start_time": "2022-05-04T18:18:33.686537",
     "status": "completed"
    },
    "tags": []
   },
   "outputs": [],
   "source": [
    "sub = pd.read_csv('../input/digit-recognizer/sample_submission.csv')\n",
    "\n",
    "#Overwrite labels in dataframe sub\n",
    "sub[\"Label\"] = predictions_final\n",
    "\n",
    "#Write updated dataframes as submission.csv\n",
    "sub.to_csv('submission.csv',index=False)"
   ]
  }
 ],
 "metadata": {
  "kernelspec": {
   "display_name": "Python 3 (ipykernel)",
   "language": "python",
   "name": "python3"
  },
  "language_info": {
   "codemirror_mode": {
    "name": "ipython",
    "version": 3
   },
   "file_extension": ".py",
   "mimetype": "text/x-python",
   "name": "python",
   "nbconvert_exporter": "python",
   "pygments_lexer": "ipython3",
   "version": "3.9.4"
  },
  "papermill": {
   "default_parameters": {},
   "duration": 2085.031833,
   "end_time": "2022-05-04T18:18:52.608508",
   "environment_variables": {},
   "exception": null,
   "input_path": "__notebook__.ipynb",
   "output_path": "__notebook__.ipynb",
   "parameters": {},
   "start_time": "2022-05-04T17:44:07.576675",
   "version": "2.3.3"
  }
 },
 "nbformat": 4,
 "nbformat_minor": 5
}
