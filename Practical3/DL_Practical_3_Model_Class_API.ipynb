{
  "nbformat": 4,
  "nbformat_minor": 0,
  "metadata": {
    "colab": {
      "name": "DL_Practical_3_Model_Class_API.ipynb",
      "provenance": []
    },
    "kernelspec": {
      "name": "python3",
      "display_name": "Python 3"
    },
    "language_info": {
      "name": "python"
    }
  },
  "cells": [
    {
      "cell_type": "code",
      "execution_count": 20,
      "metadata": {
        "id": "CFxbH5jZTfaR"
      },
      "outputs": [],
      "source": [
        "from sklearn.preprocessing import LabelBinarizer\n",
        "from tensorflow.keras.models import Sequential\n",
        "from tensorflow.keras.layers import Dense\n",
        "from tensorflow.keras.optimizers import SGD\n",
        "from tensorflow.keras.datasets import mnist\n",
        "from tensorflow.keras import backend as K\n",
        "from sklearn.metrics import classification_report\n",
        "import matplotlib.pyplot as plt\n",
        "import numpy as np"
      ]
    },
    {
      "cell_type": "code",
      "source": [
        "(x_train , y_train),(x_test,y_test) = mnist.load_data()"
      ],
      "metadata": {
        "id": "25xsaFLwT7MY"
      },
      "execution_count": 21,
      "outputs": []
    },
    {
      "cell_type": "code",
      "source": [
        "x_train.shape"
      ],
      "metadata": {
        "colab": {
          "base_uri": "https://localhost:8080/"
        },
        "id": "Z-M8pBsLT717",
        "outputId": "72cb2977-8ef2-4804-fc40-7c62262eb5ac"
      },
      "execution_count": 22,
      "outputs": [
        {
          "output_type": "execute_result",
          "data": {
            "text/plain": [
              "(60000, 28, 28)"
            ]
          },
          "metadata": {},
          "execution_count": 22
        }
      ]
    },
    {
      "cell_type": "code",
      "source": [
        "y_train.shape"
      ],
      "metadata": {
        "colab": {
          "base_uri": "https://localhost:8080/"
        },
        "id": "MKsn7ZxUT9iX",
        "outputId": "8df8645c-4c0d-4e46-bd86-a71b5a4b5575"
      },
      "execution_count": 23,
      "outputs": [
        {
          "output_type": "execute_result",
          "data": {
            "text/plain": [
              "(60000,)"
            ]
          },
          "metadata": {},
          "execution_count": 23
        }
      ]
    },
    {
      "cell_type": "code",
      "source": [
        "x_train = x_train.reshape(x_train.shape[0],28*28*1)\n",
        "x_test = x_test.reshape(x_test.shape[0],28*28*1)"
      ],
      "metadata": {
        "id": "Y_dcbx7VT_q5"
      },
      "execution_count": 24,
      "outputs": []
    },
    {
      "cell_type": "code",
      "source": [
        "x_train.shape"
      ],
      "metadata": {
        "colab": {
          "base_uri": "https://localhost:8080/"
        },
        "id": "7GPEAtWjUBtu",
        "outputId": "85ab8b97-c46f-448e-f6b7-b8dec895d742"
      },
      "execution_count": 25,
      "outputs": [
        {
          "output_type": "execute_result",
          "data": {
            "text/plain": [
              "(60000, 784)"
            ]
          },
          "metadata": {},
          "execution_count": 25
        }
      ]
    },
    {
      "cell_type": "code",
      "source": [
        "x_train = x_train.astype(\"float32\") / 255.0\n",
        "\n",
        "x_train[0]"
      ],
      "metadata": {
        "colab": {
          "base_uri": "https://localhost:8080/"
        },
        "id": "2OEl_H3qUEfq",
        "outputId": "eecee340-b6e8-4a12-eb2f-17a38d48f5c9"
      },
      "execution_count": 26,
      "outputs": [
        {
          "output_type": "execute_result",
          "data": {
            "text/plain": [
              "array([0.        , 0.        , 0.        , 0.        , 0.        ,\n",
              "       0.        , 0.        , 0.        , 0.        , 0.        ,\n",
              "       0.        , 0.        , 0.        , 0.        , 0.        ,\n",
              "       0.        , 0.        , 0.        , 0.        , 0.        ,\n",
              "       0.        , 0.        , 0.        , 0.        , 0.        ,\n",
              "       0.        , 0.        , 0.        , 0.        , 0.        ,\n",
              "       0.        , 0.        , 0.        , 0.        , 0.        ,\n",
              "       0.        , 0.        , 0.        , 0.        , 0.        ,\n",
              "       0.        , 0.        , 0.        , 0.        , 0.        ,\n",
              "       0.        , 0.        , 0.        , 0.        , 0.        ,\n",
              "       0.        , 0.        , 0.        , 0.        , 0.        ,\n",
              "       0.        , 0.        , 0.        , 0.        , 0.        ,\n",
              "       0.        , 0.        , 0.        , 0.        , 0.        ,\n",
              "       0.        , 0.        , 0.        , 0.        , 0.        ,\n",
              "       0.        , 0.        , 0.        , 0.        , 0.        ,\n",
              "       0.        , 0.        , 0.        , 0.        , 0.        ,\n",
              "       0.        , 0.        , 0.        , 0.        , 0.        ,\n",
              "       0.        , 0.        , 0.        , 0.        , 0.        ,\n",
              "       0.        , 0.        , 0.        , 0.        , 0.        ,\n",
              "       0.        , 0.        , 0.        , 0.        , 0.        ,\n",
              "       0.        , 0.        , 0.        , 0.        , 0.        ,\n",
              "       0.        , 0.        , 0.        , 0.        , 0.        ,\n",
              "       0.        , 0.        , 0.        , 0.        , 0.        ,\n",
              "       0.        , 0.        , 0.        , 0.        , 0.        ,\n",
              "       0.        , 0.        , 0.        , 0.        , 0.        ,\n",
              "       0.        , 0.        , 0.        , 0.        , 0.        ,\n",
              "       0.        , 0.        , 0.        , 0.        , 0.        ,\n",
              "       0.        , 0.        , 0.        , 0.        , 0.        ,\n",
              "       0.        , 0.        , 0.        , 0.        , 0.        ,\n",
              "       0.        , 0.        , 0.        , 0.        , 0.        ,\n",
              "       0.        , 0.        , 0.01176471, 0.07058824, 0.07058824,\n",
              "       0.07058824, 0.49411765, 0.53333336, 0.6862745 , 0.10196079,\n",
              "       0.6509804 , 1.        , 0.96862745, 0.49803922, 0.        ,\n",
              "       0.        , 0.        , 0.        , 0.        , 0.        ,\n",
              "       0.        , 0.        , 0.        , 0.        , 0.        ,\n",
              "       0.        , 0.11764706, 0.14117648, 0.36862746, 0.6039216 ,\n",
              "       0.6666667 , 0.99215686, 0.99215686, 0.99215686, 0.99215686,\n",
              "       0.99215686, 0.88235295, 0.6745098 , 0.99215686, 0.9490196 ,\n",
              "       0.7647059 , 0.2509804 , 0.        , 0.        , 0.        ,\n",
              "       0.        , 0.        , 0.        , 0.        , 0.        ,\n",
              "       0.        , 0.        , 0.        , 0.19215687, 0.93333334,\n",
              "       0.99215686, 0.99215686, 0.99215686, 0.99215686, 0.99215686,\n",
              "       0.99215686, 0.99215686, 0.99215686, 0.9843137 , 0.3647059 ,\n",
              "       0.32156864, 0.32156864, 0.21960784, 0.15294118, 0.        ,\n",
              "       0.        , 0.        , 0.        , 0.        , 0.        ,\n",
              "       0.        , 0.        , 0.        , 0.        , 0.        ,\n",
              "       0.        , 0.07058824, 0.85882354, 0.99215686, 0.99215686,\n",
              "       0.99215686, 0.99215686, 0.99215686, 0.7764706 , 0.7137255 ,\n",
              "       0.96862745, 0.94509804, 0.        , 0.        , 0.        ,\n",
              "       0.        , 0.        , 0.        , 0.        , 0.        ,\n",
              "       0.        , 0.        , 0.        , 0.        , 0.        ,\n",
              "       0.        , 0.        , 0.        , 0.        , 0.        ,\n",
              "       0.3137255 , 0.6117647 , 0.41960785, 0.99215686, 0.99215686,\n",
              "       0.8039216 , 0.04313726, 0.        , 0.16862746, 0.6039216 ,\n",
              "       0.        , 0.        , 0.        , 0.        , 0.        ,\n",
              "       0.        , 0.        , 0.        , 0.        , 0.        ,\n",
              "       0.        , 0.        , 0.        , 0.        , 0.        ,\n",
              "       0.        , 0.        , 0.        , 0.        , 0.05490196,\n",
              "       0.00392157, 0.6039216 , 0.99215686, 0.3529412 , 0.        ,\n",
              "       0.        , 0.        , 0.        , 0.        , 0.        ,\n",
              "       0.        , 0.        , 0.        , 0.        , 0.        ,\n",
              "       0.        , 0.        , 0.        , 0.        , 0.        ,\n",
              "       0.        , 0.        , 0.        , 0.        , 0.        ,\n",
              "       0.        , 0.        , 0.        , 0.        , 0.54509807,\n",
              "       0.99215686, 0.74509805, 0.00784314, 0.        , 0.        ,\n",
              "       0.        , 0.        , 0.        , 0.        , 0.        ,\n",
              "       0.        , 0.        , 0.        , 0.        , 0.        ,\n",
              "       0.        , 0.        , 0.        , 0.        , 0.        ,\n",
              "       0.        , 0.        , 0.        , 0.        , 0.        ,\n",
              "       0.        , 0.        , 0.04313726, 0.74509805, 0.99215686,\n",
              "       0.27450982, 0.        , 0.        , 0.        , 0.        ,\n",
              "       0.        , 0.        , 0.        , 0.        , 0.        ,\n",
              "       0.        , 0.        , 0.        , 0.        , 0.        ,\n",
              "       0.        , 0.        , 0.        , 0.        , 0.        ,\n",
              "       0.        , 0.        , 0.        , 0.        , 0.        ,\n",
              "       0.        , 0.13725491, 0.94509804, 0.88235295, 0.627451  ,\n",
              "       0.42352942, 0.00392157, 0.        , 0.        , 0.        ,\n",
              "       0.        , 0.        , 0.        , 0.        , 0.        ,\n",
              "       0.        , 0.        , 0.        , 0.        , 0.        ,\n",
              "       0.        , 0.        , 0.        , 0.        , 0.        ,\n",
              "       0.        , 0.        , 0.        , 0.        , 0.        ,\n",
              "       0.31764707, 0.9411765 , 0.99215686, 0.99215686, 0.46666667,\n",
              "       0.09803922, 0.        , 0.        , 0.        , 0.        ,\n",
              "       0.        , 0.        , 0.        , 0.        , 0.        ,\n",
              "       0.        , 0.        , 0.        , 0.        , 0.        ,\n",
              "       0.        , 0.        , 0.        , 0.        , 0.        ,\n",
              "       0.        , 0.        , 0.        , 0.        , 0.1764706 ,\n",
              "       0.7294118 , 0.99215686, 0.99215686, 0.5882353 , 0.10588235,\n",
              "       0.        , 0.        , 0.        , 0.        , 0.        ,\n",
              "       0.        , 0.        , 0.        , 0.        , 0.        ,\n",
              "       0.        , 0.        , 0.        , 0.        , 0.        ,\n",
              "       0.        , 0.        , 0.        , 0.        , 0.        ,\n",
              "       0.        , 0.        , 0.        , 0.0627451 , 0.3647059 ,\n",
              "       0.9882353 , 0.99215686, 0.73333335, 0.        , 0.        ,\n",
              "       0.        , 0.        , 0.        , 0.        , 0.        ,\n",
              "       0.        , 0.        , 0.        , 0.        , 0.        ,\n",
              "       0.        , 0.        , 0.        , 0.        , 0.        ,\n",
              "       0.        , 0.        , 0.        , 0.        , 0.        ,\n",
              "       0.        , 0.        , 0.        , 0.9764706 , 0.99215686,\n",
              "       0.9764706 , 0.2509804 , 0.        , 0.        , 0.        ,\n",
              "       0.        , 0.        , 0.        , 0.        , 0.        ,\n",
              "       0.        , 0.        , 0.        , 0.        , 0.        ,\n",
              "       0.        , 0.        , 0.        , 0.        , 0.        ,\n",
              "       0.        , 0.        , 0.        , 0.18039216, 0.50980395,\n",
              "       0.7176471 , 0.99215686, 0.99215686, 0.8117647 , 0.00784314,\n",
              "       0.        , 0.        , 0.        , 0.        , 0.        ,\n",
              "       0.        , 0.        , 0.        , 0.        , 0.        ,\n",
              "       0.        , 0.        , 0.        , 0.        , 0.        ,\n",
              "       0.        , 0.        , 0.        , 0.        , 0.15294118,\n",
              "       0.5803922 , 0.8980392 , 0.99215686, 0.99215686, 0.99215686,\n",
              "       0.98039216, 0.7137255 , 0.        , 0.        , 0.        ,\n",
              "       0.        , 0.        , 0.        , 0.        , 0.        ,\n",
              "       0.        , 0.        , 0.        , 0.        , 0.        ,\n",
              "       0.        , 0.        , 0.        , 0.        , 0.        ,\n",
              "       0.09411765, 0.44705883, 0.8666667 , 0.99215686, 0.99215686,\n",
              "       0.99215686, 0.99215686, 0.7882353 , 0.30588236, 0.        ,\n",
              "       0.        , 0.        , 0.        , 0.        , 0.        ,\n",
              "       0.        , 0.        , 0.        , 0.        , 0.        ,\n",
              "       0.        , 0.        , 0.        , 0.        , 0.        ,\n",
              "       0.        , 0.09019608, 0.25882354, 0.8352941 , 0.99215686,\n",
              "       0.99215686, 0.99215686, 0.99215686, 0.7764706 , 0.31764707,\n",
              "       0.00784314, 0.        , 0.        , 0.        , 0.        ,\n",
              "       0.        , 0.        , 0.        , 0.        , 0.        ,\n",
              "       0.        , 0.        , 0.        , 0.        , 0.        ,\n",
              "       0.        , 0.        , 0.07058824, 0.67058825, 0.85882354,\n",
              "       0.99215686, 0.99215686, 0.99215686, 0.99215686, 0.7647059 ,\n",
              "       0.3137255 , 0.03529412, 0.        , 0.        , 0.        ,\n",
              "       0.        , 0.        , 0.        , 0.        , 0.        ,\n",
              "       0.        , 0.        , 0.        , 0.        , 0.        ,\n",
              "       0.        , 0.        , 0.        , 0.21568628, 0.6745098 ,\n",
              "       0.8862745 , 0.99215686, 0.99215686, 0.99215686, 0.99215686,\n",
              "       0.95686275, 0.52156866, 0.04313726, 0.        , 0.        ,\n",
              "       0.        , 0.        , 0.        , 0.        , 0.        ,\n",
              "       0.        , 0.        , 0.        , 0.        , 0.        ,\n",
              "       0.        , 0.        , 0.        , 0.        , 0.        ,\n",
              "       0.        , 0.53333336, 0.99215686, 0.99215686, 0.99215686,\n",
              "       0.83137256, 0.5294118 , 0.5176471 , 0.0627451 , 0.        ,\n",
              "       0.        , 0.        , 0.        , 0.        , 0.        ,\n",
              "       0.        , 0.        , 0.        , 0.        , 0.        ,\n",
              "       0.        , 0.        , 0.        , 0.        , 0.        ,\n",
              "       0.        , 0.        , 0.        , 0.        , 0.        ,\n",
              "       0.        , 0.        , 0.        , 0.        , 0.        ,\n",
              "       0.        , 0.        , 0.        , 0.        , 0.        ,\n",
              "       0.        , 0.        , 0.        , 0.        , 0.        ,\n",
              "       0.        , 0.        , 0.        , 0.        , 0.        ,\n",
              "       0.        , 0.        , 0.        , 0.        , 0.        ,\n",
              "       0.        , 0.        , 0.        , 0.        , 0.        ,\n",
              "       0.        , 0.        , 0.        , 0.        , 0.        ,\n",
              "       0.        , 0.        , 0.        , 0.        , 0.        ,\n",
              "       0.        , 0.        , 0.        , 0.        , 0.        ,\n",
              "       0.        , 0.        , 0.        , 0.        , 0.        ,\n",
              "       0.        , 0.        , 0.        , 0.        , 0.        ,\n",
              "       0.        , 0.        , 0.        , 0.        , 0.        ,\n",
              "       0.        , 0.        , 0.        , 0.        , 0.        ,\n",
              "       0.        , 0.        , 0.        , 0.        , 0.        ,\n",
              "       0.        , 0.        , 0.        , 0.        , 0.        ,\n",
              "       0.        , 0.        , 0.        , 0.        ], dtype=float32)"
            ]
          },
          "metadata": {},
          "execution_count": 26
        }
      ]
    },
    {
      "cell_type": "code",
      "source": [
        "y_train"
      ],
      "metadata": {
        "colab": {
          "base_uri": "https://localhost:8080/"
        },
        "id": "u7cMnUyPTyGw",
        "outputId": "dcd3f77f-405e-4653-f70e-93a661c91072"
      },
      "execution_count": 27,
      "outputs": [
        {
          "output_type": "execute_result",
          "data": {
            "text/plain": [
              "array([5, 0, 4, ..., 5, 6, 8], dtype=uint8)"
            ]
          },
          "metadata": {},
          "execution_count": 27
        }
      ]
    },
    {
      "cell_type": "code",
      "source": [
        "lb = LabelBinarizer()\n",
        "y_train = lb.fit_transform(y_train)\n",
        "y_test = lb.transform(y_test)\n",
        "\n",
        "y_train"
      ],
      "metadata": {
        "colab": {
          "base_uri": "https://localhost:8080/"
        },
        "id": "xD96HDgmT6vp",
        "outputId": "ed99d841-1f3e-4921-cea4-6904dd45790e"
      },
      "execution_count": 28,
      "outputs": [
        {
          "output_type": "execute_result",
          "data": {
            "text/plain": [
              "array([[0, 0, 0, ..., 0, 0, 0],\n",
              "       [1, 0, 0, ..., 0, 0, 0],\n",
              "       [0, 0, 0, ..., 0, 0, 0],\n",
              "       ...,\n",
              "       [0, 0, 0, ..., 0, 0, 0],\n",
              "       [0, 0, 0, ..., 0, 0, 0],\n",
              "       [0, 0, 0, ..., 0, 1, 0]])"
            ]
          },
          "metadata": {},
          "execution_count": 28
        }
      ]
    },
    {
      "cell_type": "code",
      "source": [
        "y_train.shape"
      ],
      "metadata": {
        "colab": {
          "base_uri": "https://localhost:8080/"
        },
        "id": "gQxik37gUTKM",
        "outputId": "199a7f38-bdc5-484e-d4f7-a3c04903a76c"
      },
      "execution_count": 29,
      "outputs": [
        {
          "output_type": "execute_result",
          "data": {
            "text/plain": [
              "(60000, 10)"
            ]
          },
          "metadata": {},
          "execution_count": 29
        }
      ]
    },
    {
      "cell_type": "code",
      "source": [
        "import tensorflow as tf\n",
        "\n",
        "class MyModel(tf.keras.Model):\n",
        "\n",
        "  def __init__(self):\n",
        "    super().__init__()\n",
        "    self.dense1 = Dense(256, input_shape=(784,), activation=\"relu\")\n",
        "    self.dense2 = Dense(128, input_shape=(256,), activation=\"relu\")\n",
        "    self.dense3 = Dense(10, input_shape=(128,), activation=\"softmax\")\n",
        "\n",
        "  def call(self, inputs, training=False):\n",
        "    x = self.dense1(inputs)\n",
        "    x = self.dense2(x)\n",
        "    x = self.dense3(x)\n",
        "    return x\n",
        "\n",
        "\n",
        "model = MyModel()"
      ],
      "metadata": {
        "id": "rWZy96E-UsoJ"
      },
      "execution_count": 32,
      "outputs": []
    },
    {
      "cell_type": "code",
      "source": [
        "sgd = SGD(learning_rate=0.05)\n",
        "\n",
        "model.compile(loss=\"categorical_crossentropy\", optimizer=sgd, metrics=[\"accuracy\"])\n",
        "trained_model = model.fit(x_train, y_train, validation_data=(x_test, y_test), epochs=100, batch_size=100)"
      ],
      "metadata": {
        "colab": {
          "base_uri": "https://localhost:8080/"
        },
        "id": "E6dps7MjxlFO",
        "outputId": "2889d953-09c5-4412-b2ba-08c1b56106aa"
      },
      "execution_count": 33,
      "outputs": [
        {
          "output_type": "stream",
          "name": "stdout",
          "text": [
            "Epoch 1/100\n",
            "600/600 [==============================] - 4s 6ms/step - loss: 0.5018 - accuracy: 0.8658 - val_loss: 34.4895 - val_accuracy: 0.9234\n",
            "Epoch 2/100\n",
            "600/600 [==============================] - 3s 6ms/step - loss: 0.2393 - accuracy: 0.9313 - val_loss: 26.4780 - val_accuracy: 0.9393\n",
            "Epoch 3/100\n",
            "600/600 [==============================] - 3s 6ms/step - loss: 0.1861 - accuracy: 0.9462 - val_loss: 21.5140 - val_accuracy: 0.9504\n",
            "Epoch 4/100\n",
            "600/600 [==============================] - 3s 6ms/step - loss: 0.1525 - accuracy: 0.9558 - val_loss: 20.7875 - val_accuracy: 0.9526\n",
            "Epoch 5/100\n",
            "600/600 [==============================] - 4s 6ms/step - loss: 0.1275 - accuracy: 0.9631 - val_loss: 18.8374 - val_accuracy: 0.9552\n",
            "Epoch 6/100\n",
            "600/600 [==============================] - 3s 6ms/step - loss: 0.1104 - accuracy: 0.9682 - val_loss: 16.0080 - val_accuracy: 0.9638\n",
            "Epoch 7/100\n",
            "600/600 [==============================] - 4s 6ms/step - loss: 0.0962 - accuracy: 0.9718 - val_loss: 15.8567 - val_accuracy: 0.9655\n",
            "Epoch 8/100\n",
            "600/600 [==============================] - 3s 6ms/step - loss: 0.0848 - accuracy: 0.9753 - val_loss: 14.2093 - val_accuracy: 0.9692\n",
            "Epoch 9/100\n",
            "600/600 [==============================] - 4s 6ms/step - loss: 0.0763 - accuracy: 0.9777 - val_loss: 15.9719 - val_accuracy: 0.9660\n",
            "Epoch 10/100\n",
            "600/600 [==============================] - 4s 6ms/step - loss: 0.0683 - accuracy: 0.9801 - val_loss: 13.1378 - val_accuracy: 0.9707\n",
            "Epoch 11/100\n",
            "600/600 [==============================] - 4s 6ms/step - loss: 0.0614 - accuracy: 0.9828 - val_loss: 12.9518 - val_accuracy: 0.9718\n",
            "Epoch 12/100\n",
            "600/600 [==============================] - 4s 6ms/step - loss: 0.0562 - accuracy: 0.9842 - val_loss: 12.5071 - val_accuracy: 0.9737\n",
            "Epoch 13/100\n",
            "600/600 [==============================] - 4s 6ms/step - loss: 0.0510 - accuracy: 0.9862 - val_loss: 12.6274 - val_accuracy: 0.9742\n",
            "Epoch 14/100\n",
            "600/600 [==============================] - 4s 6ms/step - loss: 0.0469 - accuracy: 0.9870 - val_loss: 12.0780 - val_accuracy: 0.9755\n",
            "Epoch 15/100\n",
            "600/600 [==============================] - 4s 6ms/step - loss: 0.0427 - accuracy: 0.9886 - val_loss: 12.8090 - val_accuracy: 0.9750\n",
            "Epoch 16/100\n",
            "600/600 [==============================] - 3s 6ms/step - loss: 0.0393 - accuracy: 0.9894 - val_loss: 13.0184 - val_accuracy: 0.9752\n",
            "Epoch 17/100\n",
            "600/600 [==============================] - 4s 6ms/step - loss: 0.0361 - accuracy: 0.9906 - val_loss: 13.3763 - val_accuracy: 0.9753\n",
            "Epoch 18/100\n",
            "600/600 [==============================] - 3s 6ms/step - loss: 0.0329 - accuracy: 0.9919 - val_loss: 13.4620 - val_accuracy: 0.9755\n",
            "Epoch 19/100\n",
            "600/600 [==============================] - 3s 6ms/step - loss: 0.0304 - accuracy: 0.9926 - val_loss: 14.4019 - val_accuracy: 0.9746\n",
            "Epoch 20/100\n",
            "600/600 [==============================] - 3s 6ms/step - loss: 0.0279 - accuracy: 0.9931 - val_loss: 14.1339 - val_accuracy: 0.9750\n",
            "Epoch 21/100\n",
            "600/600 [==============================] - 3s 6ms/step - loss: 0.0259 - accuracy: 0.9940 - val_loss: 12.9659 - val_accuracy: 0.9770\n",
            "Epoch 22/100\n",
            "600/600 [==============================] - 4s 6ms/step - loss: 0.0239 - accuracy: 0.9945 - val_loss: 13.5374 - val_accuracy: 0.9760\n",
            "Epoch 23/100\n",
            "600/600 [==============================] - 5s 8ms/step - loss: 0.0221 - accuracy: 0.9951 - val_loss: 15.0845 - val_accuracy: 0.9745\n",
            "Epoch 24/100\n",
            "600/600 [==============================] - 5s 8ms/step - loss: 0.0202 - accuracy: 0.9958 - val_loss: 13.3878 - val_accuracy: 0.9774\n",
            "Epoch 25/100\n",
            "600/600 [==============================] - 3s 6ms/step - loss: 0.0186 - accuracy: 0.9963 - val_loss: 13.2387 - val_accuracy: 0.9771\n",
            "Epoch 26/100\n",
            "600/600 [==============================] - 4s 7ms/step - loss: 0.0173 - accuracy: 0.9968 - val_loss: 13.8545 - val_accuracy: 0.9779\n",
            "Epoch 27/100\n",
            "600/600 [==============================] - 4s 6ms/step - loss: 0.0160 - accuracy: 0.9970 - val_loss: 15.3467 - val_accuracy: 0.9765\n",
            "Epoch 28/100\n",
            "600/600 [==============================] - 4s 6ms/step - loss: 0.0147 - accuracy: 0.9977 - val_loss: 15.5248 - val_accuracy: 0.9765\n",
            "Epoch 29/100\n",
            "600/600 [==============================] - 3s 6ms/step - loss: 0.0137 - accuracy: 0.9977 - val_loss: 15.5133 - val_accuracy: 0.9767\n",
            "Epoch 30/100\n",
            "600/600 [==============================] - 3s 6ms/step - loss: 0.0125 - accuracy: 0.9982 - val_loss: 14.5137 - val_accuracy: 0.9776\n",
            "Epoch 31/100\n",
            "600/600 [==============================] - 3s 6ms/step - loss: 0.0117 - accuracy: 0.9984 - val_loss: 15.6540 - val_accuracy: 0.9763\n",
            "Epoch 32/100\n",
            "600/600 [==============================] - 3s 6ms/step - loss: 0.0108 - accuracy: 0.9985 - val_loss: 17.7642 - val_accuracy: 0.9746\n",
            "Epoch 33/100\n",
            "600/600 [==============================] - 4s 6ms/step - loss: 0.0100 - accuracy: 0.9987 - val_loss: 16.3043 - val_accuracy: 0.9767\n",
            "Epoch 34/100\n",
            "600/600 [==============================] - 4s 6ms/step - loss: 0.0094 - accuracy: 0.9990 - val_loss: 15.9835 - val_accuracy: 0.9776\n",
            "Epoch 35/100\n",
            "600/600 [==============================] - 3s 6ms/step - loss: 0.0087 - accuracy: 0.9992 - val_loss: 15.9472 - val_accuracy: 0.9770\n",
            "Epoch 36/100\n",
            "600/600 [==============================] - 3s 6ms/step - loss: 0.0080 - accuracy: 0.9992 - val_loss: 15.9641 - val_accuracy: 0.9775\n",
            "Epoch 37/100\n",
            "600/600 [==============================] - 4s 6ms/step - loss: 0.0076 - accuracy: 0.9991 - val_loss: 16.0402 - val_accuracy: 0.9783\n",
            "Epoch 38/100\n",
            "600/600 [==============================] - 3s 6ms/step - loss: 0.0071 - accuracy: 0.9993 - val_loss: 16.3773 - val_accuracy: 0.9777\n",
            "Epoch 39/100\n",
            "600/600 [==============================] - 3s 6ms/step - loss: 0.0066 - accuracy: 0.9995 - val_loss: 16.9627 - val_accuracy: 0.9775\n",
            "Epoch 40/100\n",
            "600/600 [==============================] - 3s 6ms/step - loss: 0.0063 - accuracy: 0.9995 - val_loss: 16.2077 - val_accuracy: 0.9785\n",
            "Epoch 41/100\n",
            "600/600 [==============================] - 3s 6ms/step - loss: 0.0058 - accuracy: 0.9996 - val_loss: 17.3481 - val_accuracy: 0.9786\n",
            "Epoch 42/100\n",
            "600/600 [==============================] - 3s 6ms/step - loss: 0.0056 - accuracy: 0.9996 - val_loss: 16.6793 - val_accuracy: 0.9787\n",
            "Epoch 43/100\n",
            "600/600 [==============================] - 4s 6ms/step - loss: 0.0052 - accuracy: 0.9997 - val_loss: 16.6254 - val_accuracy: 0.9784\n",
            "Epoch 44/100\n",
            "600/600 [==============================] - 4s 6ms/step - loss: 0.0049 - accuracy: 0.9997 - val_loss: 18.0783 - val_accuracy: 0.9772\n",
            "Epoch 45/100\n",
            "600/600 [==============================] - 4s 6ms/step - loss: 0.0047 - accuracy: 0.9997 - val_loss: 17.4288 - val_accuracy: 0.9781\n",
            "Epoch 46/100\n",
            "600/600 [==============================] - 3s 6ms/step - loss: 0.0044 - accuracy: 0.9998 - val_loss: 17.2247 - val_accuracy: 0.9784\n",
            "Epoch 47/100\n",
            "600/600 [==============================] - 4s 7ms/step - loss: 0.0042 - accuracy: 0.9998 - val_loss: 18.2543 - val_accuracy: 0.9781\n",
            "Epoch 48/100\n",
            "600/600 [==============================] - 4s 7ms/step - loss: 0.0039 - accuracy: 0.9998 - val_loss: 16.9948 - val_accuracy: 0.9791\n",
            "Epoch 49/100\n",
            "600/600 [==============================] - 4s 6ms/step - loss: 0.0038 - accuracy: 0.9999 - val_loss: 17.4337 - val_accuracy: 0.9787\n",
            "Epoch 50/100\n",
            "600/600 [==============================] - 4s 7ms/step - loss: 0.0035 - accuracy: 0.9999 - val_loss: 18.0852 - val_accuracy: 0.9783\n",
            "Epoch 51/100\n",
            "600/600 [==============================] - 4s 6ms/step - loss: 0.0034 - accuracy: 0.9999 - val_loss: 18.8517 - val_accuracy: 0.9780\n",
            "Epoch 52/100\n",
            "600/600 [==============================] - 4s 6ms/step - loss: 0.0033 - accuracy: 0.9999 - val_loss: 18.0880 - val_accuracy: 0.9787\n",
            "Epoch 53/100\n",
            "600/600 [==============================] - 4s 6ms/step - loss: 0.0031 - accuracy: 0.9999 - val_loss: 18.9366 - val_accuracy: 0.9776\n",
            "Epoch 54/100\n",
            "600/600 [==============================] - 4s 6ms/step - loss: 0.0030 - accuracy: 0.9999 - val_loss: 18.3446 - val_accuracy: 0.9785\n",
            "Epoch 55/100\n",
            "600/600 [==============================] - 5s 8ms/step - loss: 0.0029 - accuracy: 1.0000 - val_loss: 18.9289 - val_accuracy: 0.9782\n",
            "Epoch 56/100\n",
            "600/600 [==============================] - 5s 9ms/step - loss: 0.0027 - accuracy: 0.9999 - val_loss: 17.2063 - val_accuracy: 0.9801\n",
            "Epoch 57/100\n",
            "600/600 [==============================] - 5s 8ms/step - loss: 0.0026 - accuracy: 1.0000 - val_loss: 19.0249 - val_accuracy: 0.9781\n",
            "Epoch 58/100\n",
            "600/600 [==============================] - 4s 7ms/step - loss: 0.0025 - accuracy: 1.0000 - val_loss: 19.2916 - val_accuracy: 0.9781\n",
            "Epoch 59/100\n",
            "600/600 [==============================] - 4s 7ms/step - loss: 0.0024 - accuracy: 1.0000 - val_loss: 18.2803 - val_accuracy: 0.9795\n",
            "Epoch 60/100\n",
            "600/600 [==============================] - 4s 6ms/step - loss: 0.0024 - accuracy: 0.9999 - val_loss: 19.7631 - val_accuracy: 0.9782\n",
            "Epoch 61/100\n",
            "600/600 [==============================] - 4s 6ms/step - loss: 0.0023 - accuracy: 1.0000 - val_loss: 19.1873 - val_accuracy: 0.9789\n",
            "Epoch 62/100\n",
            "600/600 [==============================] - 4s 6ms/step - loss: 0.0022 - accuracy: 1.0000 - val_loss: 18.8587 - val_accuracy: 0.9786\n",
            "Epoch 63/100\n",
            "600/600 [==============================] - 3s 6ms/step - loss: 0.0021 - accuracy: 1.0000 - val_loss: 19.3374 - val_accuracy: 0.9777\n",
            "Epoch 64/100\n",
            "600/600 [==============================] - 4s 7ms/step - loss: 0.0021 - accuracy: 1.0000 - val_loss: 18.6431 - val_accuracy: 0.9797\n",
            "Epoch 65/100\n",
            "600/600 [==============================] - 4s 6ms/step - loss: 0.0020 - accuracy: 1.0000 - val_loss: 19.6173 - val_accuracy: 0.9783\n",
            "Epoch 66/100\n",
            "600/600 [==============================] - 4s 7ms/step - loss: 0.0019 - accuracy: 1.0000 - val_loss: 19.2251 - val_accuracy: 0.9792\n",
            "Epoch 67/100\n",
            "600/600 [==============================] - 6s 9ms/step - loss: 0.0019 - accuracy: 1.0000 - val_loss: 19.8968 - val_accuracy: 0.9782\n",
            "Epoch 68/100\n",
            "600/600 [==============================] - 6s 9ms/step - loss: 0.0018 - accuracy: 1.0000 - val_loss: 19.7431 - val_accuracy: 0.9789\n",
            "Epoch 69/100\n",
            "600/600 [==============================] - 5s 9ms/step - loss: 0.0018 - accuracy: 1.0000 - val_loss: 19.8795 - val_accuracy: 0.9783\n",
            "Epoch 70/100\n",
            "600/600 [==============================] - 4s 6ms/step - loss: 0.0017 - accuracy: 1.0000 - val_loss: 20.2082 - val_accuracy: 0.9781\n",
            "Epoch 71/100\n",
            "600/600 [==============================] - 3s 6ms/step - loss: 0.0017 - accuracy: 1.0000 - val_loss: 19.7535 - val_accuracy: 0.9788\n",
            "Epoch 72/100\n",
            "600/600 [==============================] - 4s 6ms/step - loss: 0.0016 - accuracy: 1.0000 - val_loss: 20.3111 - val_accuracy: 0.9787\n",
            "Epoch 73/100\n",
            "600/600 [==============================] - 4s 6ms/step - loss: 0.0016 - accuracy: 1.0000 - val_loss: 20.5959 - val_accuracy: 0.9783\n",
            "Epoch 74/100\n",
            "600/600 [==============================] - 4s 6ms/step - loss: 0.0015 - accuracy: 1.0000 - val_loss: 20.2076 - val_accuracy: 0.9785\n",
            "Epoch 75/100\n",
            "600/600 [==============================] - 4s 7ms/step - loss: 0.0015 - accuracy: 1.0000 - val_loss: 20.4545 - val_accuracy: 0.9787\n",
            "Epoch 76/100\n",
            "600/600 [==============================] - 4s 6ms/step - loss: 0.0015 - accuracy: 1.0000 - val_loss: 19.9401 - val_accuracy: 0.9794\n",
            "Epoch 77/100\n",
            "600/600 [==============================] - 4s 6ms/step - loss: 0.0014 - accuracy: 1.0000 - val_loss: 20.4749 - val_accuracy: 0.9786\n",
            "Epoch 78/100\n",
            "600/600 [==============================] - 3s 6ms/step - loss: 0.0014 - accuracy: 1.0000 - val_loss: 20.3594 - val_accuracy: 0.9790\n",
            "Epoch 79/100\n",
            "600/600 [==============================] - 3s 6ms/step - loss: 0.0014 - accuracy: 1.0000 - val_loss: 21.0855 - val_accuracy: 0.9782\n",
            "Epoch 80/100\n",
            "600/600 [==============================] - 4s 6ms/step - loss: 0.0013 - accuracy: 1.0000 - val_loss: 20.5023 - val_accuracy: 0.9790\n",
            "Epoch 81/100\n",
            "600/600 [==============================] - 4s 6ms/step - loss: 0.0013 - accuracy: 1.0000 - val_loss: 20.8419 - val_accuracy: 0.9787\n",
            "Epoch 82/100\n",
            "600/600 [==============================] - 4s 6ms/step - loss: 0.0013 - accuracy: 1.0000 - val_loss: 20.8054 - val_accuracy: 0.9787\n",
            "Epoch 83/100\n",
            "600/600 [==============================] - 4s 6ms/step - loss: 0.0012 - accuracy: 1.0000 - val_loss: 20.9486 - val_accuracy: 0.9783\n",
            "Epoch 84/100\n",
            "600/600 [==============================] - 4s 7ms/step - loss: 0.0012 - accuracy: 1.0000 - val_loss: 20.9242 - val_accuracy: 0.9782\n",
            "Epoch 85/100\n",
            "600/600 [==============================] - 4s 6ms/step - loss: 0.0012 - accuracy: 1.0000 - val_loss: 20.8036 - val_accuracy: 0.9788\n",
            "Epoch 86/100\n",
            "600/600 [==============================] - 4s 6ms/step - loss: 0.0012 - accuracy: 1.0000 - val_loss: 21.0916 - val_accuracy: 0.9789\n",
            "Epoch 87/100\n",
            "600/600 [==============================] - 4s 6ms/step - loss: 0.0011 - accuracy: 1.0000 - val_loss: 20.6412 - val_accuracy: 0.9791\n",
            "Epoch 88/100\n",
            "600/600 [==============================] - 4s 6ms/step - loss: 0.0011 - accuracy: 1.0000 - val_loss: 21.6274 - val_accuracy: 0.9783\n",
            "Epoch 89/100\n",
            "600/600 [==============================] - 4s 6ms/step - loss: 0.0011 - accuracy: 1.0000 - val_loss: 21.8762 - val_accuracy: 0.9780\n",
            "Epoch 90/100\n",
            "600/600 [==============================] - 4s 6ms/step - loss: 0.0011 - accuracy: 1.0000 - val_loss: 21.2125 - val_accuracy: 0.9787\n",
            "Epoch 91/100\n",
            "600/600 [==============================] - 4s 6ms/step - loss: 0.0010 - accuracy: 1.0000 - val_loss: 22.0566 - val_accuracy: 0.9779\n",
            "Epoch 92/100\n",
            "600/600 [==============================] - 4s 6ms/step - loss: 0.0010 - accuracy: 1.0000 - val_loss: 21.4168 - val_accuracy: 0.9788\n",
            "Epoch 93/100\n",
            "600/600 [==============================] - 4s 6ms/step - loss: 0.0010 - accuracy: 1.0000 - val_loss: 21.1874 - val_accuracy: 0.9791\n",
            "Epoch 94/100\n",
            "600/600 [==============================] - 4s 6ms/step - loss: 9.8877e-04 - accuracy: 1.0000 - val_loss: 21.6012 - val_accuracy: 0.9790\n",
            "Epoch 95/100\n",
            "600/600 [==============================] - 4s 6ms/step - loss: 9.7508e-04 - accuracy: 1.0000 - val_loss: 21.9606 - val_accuracy: 0.9783\n",
            "Epoch 96/100\n",
            "600/600 [==============================] - 4s 6ms/step - loss: 9.5116e-04 - accuracy: 1.0000 - val_loss: 21.6936 - val_accuracy: 0.9788\n",
            "Epoch 97/100\n",
            "600/600 [==============================] - 4s 6ms/step - loss: 9.4048e-04 - accuracy: 1.0000 - val_loss: 22.1393 - val_accuracy: 0.9783\n",
            "Epoch 98/100\n",
            "600/600 [==============================] - 4s 6ms/step - loss: 9.2198e-04 - accuracy: 1.0000 - val_loss: 21.8076 - val_accuracy: 0.9785\n",
            "Epoch 99/100\n",
            "600/600 [==============================] - 4s 6ms/step - loss: 9.0784e-04 - accuracy: 1.0000 - val_loss: 21.0757 - val_accuracy: 0.9792\n",
            "Epoch 100/100\n",
            "600/600 [==============================] - 4s 6ms/step - loss: 8.8424e-04 - accuracy: 1.0000 - val_loss: 22.2173 - val_accuracy: 0.9783\n"
          ]
        }
      ]
    },
    {
      "cell_type": "code",
      "source": [
        "model.evaluate(x_test,y_test)\n",
        "\n",
        "model.summary()"
      ],
      "metadata": {
        "colab": {
          "base_uri": "https://localhost:8080/"
        },
        "id": "9GtVV8c8w13y",
        "outputId": "3242865c-faae-426f-c3ae-58425663c6d4"
      },
      "execution_count": 35,
      "outputs": [
        {
          "output_type": "stream",
          "name": "stdout",
          "text": [
            "313/313 [==============================] - 2s 4ms/step - loss: 22.2173 - accuracy: 0.9783\n",
            "Model: \"my_model_7\"\n",
            "_________________________________________________________________\n",
            " Layer (type)                Output Shape              Param #   \n",
            "=================================================================\n",
            " dense (Dense)               multiple                  200960    \n",
            "                                                                 \n",
            " dense_1 (Dense)             multiple                  32896     \n",
            "                                                                 \n",
            " dense_2 (Dense)             multiple                  1290      \n",
            "                                                                 \n",
            "=================================================================\n",
            "Total params: 235,146\n",
            "Trainable params: 235,146\n",
            "Non-trainable params: 0\n",
            "_________________________________________________________________\n"
          ]
        }
      ]
    },
    {
      "cell_type": "code",
      "source": [
        ""
      ],
      "metadata": {
        "id": "t1tTRbG51SkV"
      },
      "execution_count": null,
      "outputs": []
    }
  ]
}