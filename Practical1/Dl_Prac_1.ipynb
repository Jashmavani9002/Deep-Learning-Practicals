{
 "cells": [
  {
   "cell_type": "markdown",
   "metadata": {},
   "source": [
    "# 19BCE123: JASH MAVANI\n",
    "\n",
    "## Practical 1\n",
    "\n",
    "Kaggle: Titanic – Machine Learning from Disaster\n",
    "(https://www.kaggle.com/c/titanic)"
   ]
  },
  {
   "cell_type": "code",
   "execution_count": 1,
   "metadata": {
    "_cell_guid": "b1076dfc-b9ad-4769-8c92-a6c4dae69d19",
    "_uuid": "8f2839f25d086af736a60e9eeb907d3b93b6e0e5",
    "execution": {
     "iopub.execute_input": "2022-05-04T07:21:25.268883Z",
     "iopub.status.busy": "2022-05-04T07:21:25.268297Z",
     "iopub.status.idle": "2022-05-04T07:21:25.309689Z",
     "shell.execute_reply": "2022-05-04T07:21:25.309039Z",
     "shell.execute_reply.started": "2022-05-04T07:21:25.268795Z"
    }
   },
   "outputs": [],
   "source": [
    "# This Python 3 environment comes with many helpful analytics libraries installed\n",
    "# It is defined by the kaggle/python Docker image: https://github.com/kaggle/docker-python\n",
    "# For example, here's several helpful packages to load\n",
    "\n",
    "import numpy as np # linear algebra\n",
    "import pandas as pd # data processing, CSV file I/O (e.g. pd.read_csv)\n",
    "\n",
    "# Input data files are available in the read-only \"../input/\" directory\n",
    "# For example, running this (by clicking run or pressing Shift+Enter) will list all files under the input directory\n",
    "\n",
    "import os\n",
    "for dirname, _, filenames in os.walk('/kaggle/input'):\n",
    "    for filename in filenames:\n",
    "        print(os.path.join(dirname, filename))\n",
    "\n",
    "# You can write up to 20GB to the current directory (/kaggle/working/) that gets preserved as output when you create a version using \"Save & Run All\" \n",
    "# You can also write temporary files to /kaggle/temp/, but they won't be saved outside of the current session"
   ]
  },
  {
   "cell_type": "markdown",
   "metadata": {},
   "source": [
    "## Import"
   ]
  },
  {
   "cell_type": "code",
   "execution_count": 2,
   "metadata": {
    "execution": {
     "iopub.execute_input": "2022-05-04T07:21:25.311876Z",
     "iopub.status.busy": "2022-05-04T07:21:25.311405Z",
     "iopub.status.idle": "2022-05-04T07:21:25.315492Z",
     "shell.execute_reply": "2022-05-04T07:21:25.314826Z",
     "shell.execute_reply.started": "2022-05-04T07:21:25.311841Z"
    }
   },
   "outputs": [],
   "source": [
    "import numpy as np\n",
    "import pandas as pd \n"
   ]
  },
  {
   "cell_type": "code",
   "execution_count": 3,
   "metadata": {
    "execution": {
     "iopub.execute_input": "2022-05-04T07:21:25.317342Z",
     "iopub.status.busy": "2022-05-04T07:21:25.317044Z",
     "iopub.status.idle": "2022-05-04T07:21:25.323954Z",
     "shell.execute_reply": "2022-05-04T07:21:25.323231Z",
     "shell.execute_reply.started": "2022-05-04T07:21:25.317307Z"
    }
   },
   "outputs": [],
   "source": [
    "import warnings\n",
    "warnings.filterwarnings(\"ignore\")"
   ]
  },
  {
   "cell_type": "code",
   "execution_count": 4,
   "metadata": {
    "execution": {
     "iopub.execute_input": "2022-05-04T07:21:25.348099Z",
     "iopub.status.busy": "2022-05-04T07:21:25.347823Z",
     "iopub.status.idle": "2022-05-04T07:21:25.394975Z",
     "shell.execute_reply": "2022-05-04T07:21:25.394335Z",
     "shell.execute_reply.started": "2022-05-04T07:21:25.348073Z"
    }
   },
   "outputs": [],
   "source": [
    "train = pd.read_csv(\"../input/titanic/train.csv\")\n",
    "test = pd.read_csv(\"../input/titanic/test.csv\")\n",
    "ans = pd.read_csv(\"../input/titanic/gender_submission.csv\")"
   ]
  },
  {
   "cell_type": "code",
   "execution_count": 5,
   "metadata": {
    "execution": {
     "iopub.execute_input": "2022-05-04T07:21:25.396756Z",
     "iopub.status.busy": "2022-05-04T07:21:25.396427Z",
     "iopub.status.idle": "2022-05-04T07:21:25.428948Z",
     "shell.execute_reply": "2022-05-04T07:21:25.428273Z",
     "shell.execute_reply.started": "2022-05-04T07:21:25.396718Z"
    }
   },
   "outputs": [],
   "source": [
    "train"
   ]
  },
  {
   "cell_type": "code",
   "execution_count": 6,
   "metadata": {
    "execution": {
     "iopub.execute_input": "2022-05-04T07:21:25.430412Z",
     "iopub.status.busy": "2022-05-04T07:21:25.430153Z",
     "iopub.status.idle": "2022-05-04T07:21:25.440799Z",
     "shell.execute_reply": "2022-05-04T07:21:25.440037Z",
     "shell.execute_reply.started": "2022-05-04T07:21:25.430366Z"
    }
   },
   "outputs": [],
   "source": [
    "train.isnull().sum()"
   ]
  },
  {
   "cell_type": "markdown",
   "metadata": {},
   "source": [
    "**Handling Null values**"
   ]
  },
  {
   "cell_type": "code",
   "execution_count": 7,
   "metadata": {
    "execution": {
     "iopub.execute_input": "2022-05-04T07:21:25.453047Z",
     "iopub.status.busy": "2022-05-04T07:21:25.452867Z",
     "iopub.status.idle": "2022-05-04T07:21:25.465053Z",
     "shell.execute_reply": "2022-05-04T07:21:25.464134Z",
     "shell.execute_reply.started": "2022-05-04T07:21:25.453024Z"
    }
   },
   "outputs": [],
   "source": [
    "print(train['Embarked'].value_counts())\n",
    "print(round(train['Age'].mean(),2))"
   ]
  },
  {
   "cell_type": "code",
   "execution_count": 8,
   "metadata": {
    "execution": {
     "iopub.execute_input": "2022-05-04T07:21:25.468691Z",
     "iopub.status.busy": "2022-05-04T07:21:25.468273Z",
     "iopub.status.idle": "2022-05-04T07:21:25.477249Z",
     "shell.execute_reply": "2022-05-04T07:21:25.476531Z",
     "shell.execute_reply.started": "2022-05-04T07:21:25.468656Z"
    }
   },
   "outputs": [],
   "source": [
    "train['Age'] = train['Age'].fillna(round(train['Age'].mean(),2))\n",
    "train['Embarked'] = train['Embarked'].fillna('S')\n",
    "train = train.drop('Cabin', 1)\n",
    "train = train.drop('Name',1)"
   ]
  },
  {
   "cell_type": "code",
   "execution_count": 9,
   "metadata": {
    "execution": {
     "iopub.execute_input": "2022-05-04T07:21:25.479307Z",
     "iopub.status.busy": "2022-05-04T07:21:25.478720Z",
     "iopub.status.idle": "2022-05-04T07:21:25.484128Z",
     "shell.execute_reply": "2022-05-04T07:21:25.483437Z",
     "shell.execute_reply.started": "2022-05-04T07:21:25.479273Z"
    }
   },
   "outputs": [],
   "source": [
    "train.shape"
   ]
  },
  {
   "cell_type": "code",
   "execution_count": 10,
   "metadata": {
    "execution": {
     "iopub.execute_input": "2022-05-04T07:21:25.498098Z",
     "iopub.status.busy": "2022-05-04T07:21:25.497546Z",
     "iopub.status.idle": "2022-05-04T07:21:25.521290Z",
     "shell.execute_reply": "2022-05-04T07:21:25.520635Z",
     "shell.execute_reply.started": "2022-05-04T07:21:25.498061Z"
    }
   },
   "outputs": [],
   "source": [
    "test"
   ]
  },
  {
   "cell_type": "code",
   "execution_count": 11,
   "metadata": {
    "execution": {
     "iopub.execute_input": "2022-05-04T07:21:25.523244Z",
     "iopub.status.busy": "2022-05-04T07:21:25.522788Z",
     "iopub.status.idle": "2022-05-04T07:21:25.532635Z",
     "shell.execute_reply": "2022-05-04T07:21:25.531644Z",
     "shell.execute_reply.started": "2022-05-04T07:21:25.523207Z"
    }
   },
   "outputs": [],
   "source": [
    "test.isnull().sum()"
   ]
  },
  {
   "cell_type": "code",
   "execution_count": 12,
   "metadata": {
    "execution": {
     "iopub.execute_input": "2022-05-04T07:21:25.534236Z",
     "iopub.status.busy": "2022-05-04T07:21:25.533810Z",
     "iopub.status.idle": "2022-05-04T07:21:25.540185Z",
     "shell.execute_reply": "2022-05-04T07:21:25.539400Z",
     "shell.execute_reply.started": "2022-05-04T07:21:25.534203Z"
    }
   },
   "outputs": [],
   "source": [
    "print(round(test['Age'].mean(),2))\n",
    "print(round(test['Fare'].mean(),3))"
   ]
  },
  {
   "cell_type": "code",
   "execution_count": 13,
   "metadata": {
    "execution": {
     "iopub.execute_input": "2022-05-04T07:21:25.548348Z",
     "iopub.status.busy": "2022-05-04T07:21:25.547914Z",
     "iopub.status.idle": "2022-05-04T07:21:25.556924Z",
     "shell.execute_reply": "2022-05-04T07:21:25.556034Z",
     "shell.execute_reply.started": "2022-05-04T07:21:25.548319Z"
    }
   },
   "outputs": [],
   "source": [
    "test['Age'] = test['Age'].fillna(round(test['Age'].mean(),2))\n",
    "test['Fare'] = test['Fare'].fillna(round(test['Fare'].mean(),3))\n",
    "test = test.drop('Cabin', 1)\n",
    "test = test.drop('Name',1)"
   ]
  },
  {
   "cell_type": "code",
   "execution_count": 14,
   "metadata": {
    "execution": {
     "iopub.execute_input": "2022-05-04T07:21:25.572989Z",
     "iopub.status.busy": "2022-05-04T07:21:25.572798Z",
     "iopub.status.idle": "2022-05-04T07:21:25.580294Z",
     "shell.execute_reply": "2022-05-04T07:21:25.579484Z",
     "shell.execute_reply.started": "2022-05-04T07:21:25.572966Z"
    }
   },
   "outputs": [],
   "source": [
    "test.shape"
   ]
  },
  {
   "cell_type": "code",
   "execution_count": 15,
   "metadata": {
    "execution": {
     "iopub.execute_input": "2022-05-04T07:21:25.584758Z",
     "iopub.status.busy": "2022-05-04T07:21:25.584265Z",
     "iopub.status.idle": "2022-05-04T07:21:25.608348Z",
     "shell.execute_reply": "2022-05-04T07:21:25.607648Z",
     "shell.execute_reply.started": "2022-05-04T07:21:25.584728Z"
    }
   },
   "outputs": [],
   "source": [
    "train['Who'] = train['Sex'].apply(lambda x :'male' if x=='male' else 'female' if x=='female' else ' ' )\n",
    "\n",
    "train"
   ]
  },
  {
   "cell_type": "code",
   "execution_count": 16,
   "metadata": {
    "execution": {
     "iopub.execute_input": "2022-05-04T07:21:25.610331Z",
     "iopub.status.busy": "2022-05-04T07:21:25.609589Z",
     "iopub.status.idle": "2022-05-04T07:21:25.673403Z",
     "shell.execute_reply": "2022-05-04T07:21:25.672627Z",
     "shell.execute_reply.started": "2022-05-04T07:21:25.610294Z"
    }
   },
   "outputs": [],
   "source": [
    "for i in range(0,len(train)) :\n",
    "    if train['Age'][i]<=15 :\n",
    "        train['Who'][i] = 'child'\n",
    "        \n",
    "train"
   ]
  },
  {
   "cell_type": "code",
   "execution_count": 17,
   "metadata": {
    "execution": {
     "iopub.execute_input": "2022-05-04T07:21:25.675247Z",
     "iopub.status.busy": "2022-05-04T07:21:25.674962Z",
     "iopub.status.idle": "2022-05-04T07:21:25.719019Z",
     "shell.execute_reply": "2022-05-04T07:21:25.718317Z",
     "shell.execute_reply.started": "2022-05-04T07:21:25.675214Z"
    }
   },
   "outputs": [],
   "source": [
    "test['Who'] = test['Sex'].apply(lambda x :'male' if x=='male' else 'female' if x=='female' else ' ' )\n",
    "\n",
    "for i in range(0,len(test)) :\n",
    "    if test['Age'][i]<=15 :\n",
    "        test['Who'][i] = 'child'\n",
    "\n",
    "test"
   ]
  },
  {
   "cell_type": "code",
   "execution_count": 18,
   "metadata": {
    "execution": {
     "iopub.execute_input": "2022-05-04T07:21:25.720808Z",
     "iopub.status.busy": "2022-05-04T07:21:25.720354Z",
     "iopub.status.idle": "2022-05-04T07:21:25.748701Z",
     "shell.execute_reply": "2022-05-04T07:21:25.747926Z",
     "shell.execute_reply.started": "2022-05-04T07:21:25.720774Z"
    }
   },
   "outputs": [],
   "source": [
    "sum = 0\n",
    "for i in range(len(train)) :\n",
    "    if (train['Age'][i]>=2 and train['Age'][i]<=30 and train['Sex'][i]=='female' and train['Survived'][i]==1) :\n",
    "        sum = sum + 1\n",
    "        \n",
    "print(sum)"
   ]
  },
  {
   "cell_type": "code",
   "execution_count": 19,
   "metadata": {
    "execution": {
     "iopub.execute_input": "2022-05-04T07:21:25.751347Z",
     "iopub.status.busy": "2022-05-04T07:21:25.750686Z",
     "iopub.status.idle": "2022-05-04T07:21:26.752185Z",
     "shell.execute_reply": "2022-05-04T07:21:26.751528Z",
     "shell.execute_reply.started": "2022-05-04T07:21:25.751306Z"
    }
   },
   "outputs": [],
   "source": [
    "import seaborn as sns\n",
    "import matplotlib.pyplot as plt\n",
    " \n",
    "sns.countplot(x =train['Sex'],hue = train['Survived'], data = train)\n",
    " \n",
    "plt.show()"
   ]
  },
  {
   "cell_type": "code",
   "execution_count": 20,
   "metadata": {
    "execution": {
     "iopub.execute_input": "2022-05-04T07:21:26.753650Z",
     "iopub.status.busy": "2022-05-04T07:21:26.753321Z",
     "iopub.status.idle": "2022-05-04T07:21:26.931887Z",
     "shell.execute_reply": "2022-05-04T07:21:26.931199Z",
     "shell.execute_reply.started": "2022-05-04T07:21:26.753612Z"
    }
   },
   "outputs": [],
   "source": [
    "import seaborn as sns\n",
    "import matplotlib.pyplot as plt\n",
    " \n",
    "sns.countplot(x =train['Who'],hue = train['Survived'], data = train)\n",
    " \n",
    "plt.show()"
   ]
  },
  {
   "cell_type": "code",
   "execution_count": 21,
   "metadata": {
    "execution": {
     "iopub.execute_input": "2022-05-04T07:21:26.933647Z",
     "iopub.status.busy": "2022-05-04T07:21:26.933202Z",
     "iopub.status.idle": "2022-05-04T07:21:27.125802Z",
     "shell.execute_reply": "2022-05-04T07:21:27.125162Z",
     "shell.execute_reply.started": "2022-05-04T07:21:26.933608Z"
    }
   },
   "outputs": [],
   "source": [
    "import seaborn as sns\n",
    "import matplotlib.pyplot as plt\n",
    " \n",
    "sns.countplot(x =train['Pclass'],hue = train['Survived'], data = train)\n",
    " \n",
    "plt.show()"
   ]
  },
  {
   "cell_type": "code",
   "execution_count": 22,
   "metadata": {
    "execution": {
     "iopub.execute_input": "2022-05-04T07:21:27.127709Z",
     "iopub.status.busy": "2022-05-04T07:21:27.126956Z",
     "iopub.status.idle": "2022-05-04T07:21:27.343213Z",
     "shell.execute_reply": "2022-05-04T07:21:27.342432Z",
     "shell.execute_reply.started": "2022-05-04T07:21:27.127669Z"
    }
   },
   "outputs": [],
   "source": [
    "import seaborn as sns\n",
    "import matplotlib.pyplot as plt\n",
    " \n",
    "sns.countplot(x =train['Parch'],hue = train['Survived'], data = train)\n",
    " \n",
    "plt.show()"
   ]
  },
  {
   "cell_type": "code",
   "execution_count": 23,
   "metadata": {
    "execution": {
     "iopub.execute_input": "2022-05-04T07:21:27.344843Z",
     "iopub.status.busy": "2022-05-04T07:21:27.344508Z",
     "iopub.status.idle": "2022-05-04T07:21:27.532617Z",
     "shell.execute_reply": "2022-05-04T07:21:27.531956Z",
     "shell.execute_reply.started": "2022-05-04T07:21:27.344795Z"
    }
   },
   "outputs": [],
   "source": [
    "import seaborn as sns\n",
    "import matplotlib.pyplot as plt\n",
    " \n",
    "sns.countplot(x =train['Embarked'],hue = train['Survived'], data = train)\n",
    " \n",
    "plt.show()"
   ]
  },
  {
   "cell_type": "code",
   "execution_count": 24,
   "metadata": {
    "execution": {
     "iopub.execute_input": "2022-05-04T07:21:27.534147Z",
     "iopub.status.busy": "2022-05-04T07:21:27.533797Z",
     "iopub.status.idle": "2022-05-04T07:21:27.543250Z",
     "shell.execute_reply": "2022-05-04T07:21:27.542539Z",
     "shell.execute_reply.started": "2022-05-04T07:21:27.534113Z"
    }
   },
   "outputs": [],
   "source": [
    "Y_train = train['Survived']\n",
    "X_train = train.drop('Survived', 1)\n",
    "\n",
    "print(X_train.shape)\n",
    "print(Y_train)"
   ]
  },
  {
   "cell_type": "code",
   "execution_count": 25,
   "metadata": {
    "execution": {
     "iopub.execute_input": "2022-05-04T07:21:27.547550Z",
     "iopub.status.busy": "2022-05-04T07:21:27.546779Z",
     "iopub.status.idle": "2022-05-04T07:21:27.553055Z",
     "shell.execute_reply": "2022-05-04T07:21:27.552279Z",
     "shell.execute_reply.started": "2022-05-04T07:21:27.547515Z"
    }
   },
   "outputs": [],
   "source": [
    "X_test = test\n",
    "test.shape"
   ]
  },
  {
   "cell_type": "code",
   "execution_count": 26,
   "metadata": {
    "execution": {
     "iopub.execute_input": "2022-05-04T07:21:27.558220Z",
     "iopub.status.busy": "2022-05-04T07:21:27.557451Z",
     "iopub.status.idle": "2022-05-04T07:21:27.679597Z",
     "shell.execute_reply": "2022-05-04T07:21:27.678744Z",
     "shell.execute_reply.started": "2022-05-04T07:21:27.558184Z"
    }
   },
   "outputs": [],
   "source": [
    "from sklearn.preprocessing import StandardScaler, LabelEncoder\n",
    "\n",
    "le = LabelEncoder()\n",
    "X_train = X_train.apply(le.fit_transform)\n",
    "print(X_train)\n",
    "\n",
    "X_test = X_test.apply(le.fit_transform)\n",
    "print(X_test)"
   ]
  },
  {
   "cell_type": "code",
   "execution_count": 27,
   "metadata": {
    "execution": {
     "iopub.execute_input": "2022-05-04T07:21:27.681222Z",
     "iopub.status.busy": "2022-05-04T07:21:27.680920Z",
     "iopub.status.idle": "2022-05-04T07:21:27.695250Z",
     "shell.execute_reply": "2022-05-04T07:21:27.694595Z",
     "shell.execute_reply.started": "2022-05-04T07:21:27.681184Z"
    }
   },
   "outputs": [],
   "source": [
    "selected_columns1 = X_train[[\"Pclass\", \"Sex\",\"Embarked\", \"SibSp\", \"Parch\", \"Who\"]]\n",
    "selected_columns2 = X_test[[\"Pclass\", \"Sex\", \"Embarked\", \"SibSp\", \"Parch\", \"Who\"]]\n",
    "\n",
    "X_train = selected_columns1.copy()\n",
    "X_test = selected_columns2.copy()\n",
    "\n",
    "print(Y_train)\n",
    "\n",
    "print(X_test)"
   ]
  },
  {
   "cell_type": "code",
   "execution_count": 28,
   "metadata": {
    "execution": {
     "iopub.execute_input": "2022-05-04T07:21:27.696991Z",
     "iopub.status.busy": "2022-05-04T07:21:27.696528Z",
     "iopub.status.idle": "2022-05-04T07:21:27.712882Z",
     "shell.execute_reply": "2022-05-04T07:21:27.712238Z",
     "shell.execute_reply.started": "2022-05-04T07:21:27.696957Z"
    }
   },
   "outputs": [],
   "source": [
    "from sklearn.preprocessing import StandardScaler\n",
    "\n",
    "scaler = StandardScaler()\n",
    "\n",
    "scaler.fit(X_train)\n",
    "scaler.transform(X_train)\n",
    "\n",
    "scaler.fit(X_test)\n",
    "scaler.transform(X_test)"
   ]
  },
  {
   "cell_type": "code",
   "execution_count": 29,
   "metadata": {
    "execution": {
     "iopub.execute_input": "2022-05-04T07:21:27.714617Z",
     "iopub.status.busy": "2022-05-04T07:21:27.714088Z",
     "iopub.status.idle": "2022-05-04T07:21:27.718041Z",
     "shell.execute_reply": "2022-05-04T07:21:27.717163Z",
     "shell.execute_reply.started": "2022-05-04T07:21:27.714582Z"
    }
   },
   "outputs": [],
   "source": [
    "# from sklearn.neighbors import KNeighborsClassifier\n",
    "\n",
    "# knn = KNeighborsClassifier(n_neighbors=5)\n",
    "\n",
    "# knn.fit(X_train, Y_train)\n",
    "# Y_pred = knn.predict(X_test)"
   ]
  },
  {
   "cell_type": "code",
   "execution_count": null,
   "metadata": {},
   "outputs": [],
   "source": []
  },
  {
   "cell_type": "code",
   "execution_count": 30,
   "metadata": {
    "execution": {
     "iopub.execute_input": "2022-05-04T07:21:27.720347Z",
     "iopub.status.busy": "2022-05-04T07:21:27.719722Z",
     "iopub.status.idle": "2022-05-04T07:21:27.742963Z",
     "shell.execute_reply": "2022-05-04T07:21:27.742339Z",
     "shell.execute_reply.started": "2022-05-04T07:21:27.720261Z"
    }
   },
   "outputs": [],
   "source": [
    "X_test"
   ]
  },
  {
   "cell_type": "code",
   "execution_count": 31,
   "metadata": {
    "execution": {
     "iopub.execute_input": "2022-05-04T07:21:27.744751Z",
     "iopub.status.busy": "2022-05-04T07:21:27.744055Z",
     "iopub.status.idle": "2022-05-04T07:21:27.748158Z",
     "shell.execute_reply": "2022-05-04T07:21:27.747386Z",
     "shell.execute_reply.started": "2022-05-04T07:21:27.744717Z"
    }
   },
   "outputs": [],
   "source": [
    "# from sklearn.metrics import accuracy_score\n",
    "\n",
    "# accuracy_score(y_true, y_pred)\n",
    "\n",
    "# print(len(ans['PassengerId']))\n",
    "# print(len(Y_pred))"
   ]
  },
  {
   "cell_type": "code",
   "execution_count": 32,
   "metadata": {
    "execution": {
     "iopub.execute_input": "2022-05-04T07:21:27.750065Z",
     "iopub.status.busy": "2022-05-04T07:21:27.749644Z",
     "iopub.status.idle": "2022-05-04T07:21:27.941655Z",
     "shell.execute_reply": "2022-05-04T07:21:27.940956Z",
     "shell.execute_reply.started": "2022-05-04T07:21:27.750027Z"
    }
   },
   "outputs": [],
   "source": [
    "from sklearn.tree import DecisionTreeClassifier\n",
    "\n",
    "clf_gini = DecisionTreeClassifier(criterion = \"gini\",\n",
    "            random_state = 125,max_depth=10, min_samples_leaf=5)\n",
    "\n",
    "clf_gini.fit(X_train, Y_train)\n",
    "\n",
    "Y_pred = clf_gini.predict(X_test)"
   ]
  },
  {
   "cell_type": "code",
   "execution_count": 33,
   "metadata": {
    "execution": {
     "iopub.execute_input": "2022-05-04T07:21:27.945550Z",
     "iopub.status.busy": "2022-05-04T07:21:27.945012Z",
     "iopub.status.idle": "2022-05-04T07:21:27.975046Z",
     "shell.execute_reply": "2022-05-04T07:21:27.974384Z",
     "shell.execute_reply.started": "2022-05-04T07:21:27.945511Z"
    }
   },
   "outputs": [],
   "source": [
    "from sklearn.ensemble import RandomForestClassifier\n",
    "from sklearn.model_selection import RandomizedSearchCV\n",
    "\n",
    "\n",
    "max_depth = [int(x) for x in np.linspace(10, 110, num = 11)]\n",
    "max_depth.append(None)\n",
    "\n",
    "random_grid = {'n_estimators': [int(x) for x in np.linspace(start = 200, stop = 2000, num = 10)],\n",
    "               'max_features': ['auto', 'sqrt'],\n",
    "               'max_depth': max_depth,\n",
    "               'min_samples_split': [2, 5, 10],\n",
    "               'min_samples_leaf': [1, 2, 4],\n",
    "               'bootstrap': [True, False]}\n",
    "\n",
    "print(random_grid)"
   ]
  },
  {
   "cell_type": "code",
   "execution_count": 34,
   "metadata": {
    "execution": {
     "iopub.execute_input": "2022-05-04T07:21:27.976864Z",
     "iopub.status.busy": "2022-05-04T07:21:27.976186Z",
     "iopub.status.idle": "2022-05-04T07:28:25.669219Z",
     "shell.execute_reply": "2022-05-04T07:28:25.668427Z",
     "shell.execute_reply.started": "2022-05-04T07:21:27.976827Z"
    }
   },
   "outputs": [],
   "source": [
    "rf = RandomForestClassifier()\n",
    "\n",
    "rf_random = RandomizedSearchCV(estimator = rf, param_distributions = random_grid, n_iter = 100, cv = 3, verbose=2, random_state=42, n_jobs = -1)\n",
    "\n",
    "rf_random.fit(X_train, Y_train)\n",
    "Y_pred = rf_random.predict(X_test)"
   ]
  },
  {
   "cell_type": "code",
   "execution_count": 35,
   "metadata": {
    "execution": {
     "iopub.execute_input": "2022-05-04T07:28:25.671167Z",
     "iopub.status.busy": "2022-05-04T07:28:25.670912Z",
     "iopub.status.idle": "2022-05-04T07:28:25.675443Z",
     "shell.execute_reply": "2022-05-04T07:28:25.674819Z",
     "shell.execute_reply.started": "2022-05-04T07:28:25.671129Z"
    }
   },
   "outputs": [],
   "source": [
    "# from sklearn.ensemble import RandomForestClassifier\n",
    "# from sklearn.model_selection import RandomizedSearchCV\n",
    "\n",
    "# model = RandomForestClassifier(n_estimators=100, max_depth=5, random_state=2)\n",
    "\n",
    "# model.fit(X_train, Y_train)\n",
    "# Y_pred = model.predict(X_test)"
   ]
  },
  {
   "cell_type": "code",
   "execution_count": 36,
   "metadata": {
    "execution": {
     "iopub.execute_input": "2022-05-04T07:28:25.677069Z",
     "iopub.status.busy": "2022-05-04T07:28:25.676664Z",
     "iopub.status.idle": "2022-05-04T07:28:25.696101Z",
     "shell.execute_reply": "2022-05-04T07:28:25.695277Z",
     "shell.execute_reply.started": "2022-05-04T07:28:25.677031Z"
    }
   },
   "outputs": [],
   "source": [
    "data = []\n",
    "for i in range(0,418) :\n",
    "    one = []\n",
    "    one.append(i+892)\n",
    "    one.append(Y_pred[i])\n",
    "    data.append(one)\n",
    "    \n",
    "df = pd.DataFrame(data, columns = ['PassengerId', 'Survived'])\n",
    "df"
   ]
  },
  {
   "cell_type": "code",
   "execution_count": null,
   "metadata": {
    "execution": {
     "iopub.execute_input": "2022-05-04T07:28:25.699666Z",
     "iopub.status.busy": "2022-05-04T07:28:25.698233Z"
    }
   },
   "outputs": [],
   "source": [
    "df.to_csv('/kaggle/working/ans.csv',index=False)"
   ]
  },
  {
   "cell_type": "code",
   "execution_count": null,
   "metadata": {},
   "outputs": [],
   "source": []
  }
 ],
 "metadata": {
  "kernelspec": {
   "display_name": "Python 3 (ipykernel)",
   "language": "python",
   "name": "python3"
  },
  "language_info": {
   "codemirror_mode": {
    "name": "ipython",
    "version": 3
   },
   "file_extension": ".py",
   "mimetype": "text/x-python",
   "name": "python",
   "nbconvert_exporter": "python",
   "pygments_lexer": "ipython3",
   "version": "3.9.4"
  }
 },
 "nbformat": 4,
 "nbformat_minor": 4
}
