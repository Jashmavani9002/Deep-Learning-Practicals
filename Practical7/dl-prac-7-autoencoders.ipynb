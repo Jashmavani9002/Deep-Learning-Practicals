{
 "cells": [
  {
   "cell_type": "markdown",
   "id": "90a1f4cf-f597-4ee9-bb60-88dd3d508983",
   "metadata": {},
   "source": [
    "# 19BCE123: JASH MAVANI\n",
    "\n",
    "## Practical 7\n",
    "\n",
    "Stacked Auto Encoders and Stacked Sparse Auto Encoders for Image Denoising"
   ]
  },
  {
   "cell_type": "code",
   "execution_count": 1,
   "id": "752e8b1d",
   "metadata": {
    "execution": {
     "iopub.execute_input": "2022-05-05T13:38:55.253243Z",
     "iopub.status.busy": "2022-05-05T13:38:55.251770Z",
     "iopub.status.idle": "2022-05-05T13:38:59.908786Z",
     "shell.execute_reply": "2022-05-05T13:38:59.907652Z",
     "shell.execute_reply.started": "2022-05-05T13:32:52.974227Z"
    },
    "id": "7RCVRCkDA-ln",
    "papermill": {
     "duration": 4.66935,
     "end_time": "2022-05-05T13:38:59.909107",
     "exception": false,
     "start_time": "2022-05-05T13:38:55.239757",
     "status": "completed"
    },
    "tags": []
   },
   "outputs": [],
   "source": [
    "from tensorflow import keras\n",
    "from keras.layers import Dense, Input\n",
    "from keras.models import Model, Sequential\n",
    "from keras.datasets import mnist\n",
    "import numpy as np\n",
    "from tensorflow.keras.utils import to_categorical"
   ]
  },
  {
   "cell_type": "code",
   "execution_count": 2,
   "id": "f984277e",
   "metadata": {
    "execution": {
     "iopub.execute_input": "2022-05-05T13:38:59.942454Z",
     "iopub.status.busy": "2022-05-05T13:38:59.941495Z",
     "iopub.status.idle": "2022-05-05T13:39:01.601353Z",
     "shell.execute_reply": "2022-05-05T13:39:01.601848Z",
     "shell.execute_reply.started": "2022-05-05T13:32:55.098413Z"
    },
    "id": "vdjNISehBD5j",
    "papermill": {
     "duration": 1.67942,
     "end_time": "2022-05-05T13:39:01.602037",
     "exception": false,
     "start_time": "2022-05-05T13:38:59.922617",
     "status": "completed"
    },
    "tags": []
   },
   "outputs": [
    {
     "name": "stdout",
     "output_type": "stream",
     "text": [
      "Downloading data from https://storage.googleapis.com/tensorflow/tf-keras-datasets/mnist.npz\n",
      "11493376/11490434 [==============================] - 0s 0us/step\n",
      "11501568/11490434 [==============================] - 0s 0us/step\n"
     ]
    }
   ],
   "source": [
    "(x_train, y_train), (x_test, y_test) = mnist.load_data()\n",
    "x_train = np.reshape(x_train, newshape=(60000, 784)).astype('float32')\n",
    "x_test = np.reshape(x_test, newshape=(10000, 784)).astype('float32')\n",
    "y_train=to_categorical(y_train,num_classes=10)\n",
    "y_test=to_categorical(y_test,num_classes=10)\n",
    "x_train=x_train/255\n",
    "x_test=x_test/255\n"
   ]
  },
  {
   "cell_type": "code",
   "execution_count": 3,
   "id": "465cd652",
   "metadata": {
    "execution": {
     "iopub.execute_input": "2022-05-05T13:39:01.627829Z",
     "iopub.status.busy": "2022-05-05T13:39:01.626742Z",
     "iopub.status.idle": "2022-05-05T13:39:03.886074Z",
     "shell.execute_reply": "2022-05-05T13:39:03.885447Z",
     "shell.execute_reply.started": "2022-05-05T13:32:55.574858Z"
    },
    "id": "Rwa9EttwBD8y",
    "outputId": "172eddd3-230b-4fdc-cc02-d615b82825ed",
    "papermill": {
     "duration": 2.273816,
     "end_time": "2022-05-05T13:39:03.886233",
     "exception": false,
     "start_time": "2022-05-05T13:39:01.612417",
     "status": "completed"
    },
    "tags": []
   },
   "outputs": [
    {
     "name": "stderr",
     "output_type": "stream",
     "text": [
      "2022-05-05 13:39:01.709991: I tensorflow/stream_executor/cuda/cuda_gpu_executor.cc:937] successful NUMA node read from SysFS had negative value (-1), but there must be at least one NUMA node, so returning NUMA node zero\n"
     ]
    },
    {
     "name": "stdout",
     "output_type": "stream",
     "text": [
      "Model: \"model\"\n",
      "_________________________________________________________________\n",
      "Layer (type)                 Output Shape              Param #   \n",
      "=================================================================\n",
      "input_1 (InputLayer)         [(None, 784)]             0         \n",
      "_________________________________________________________________\n",
      "dense (Dense)                (None, 100)               78500     \n",
      "_________________________________________________________________\n",
      "dense_1 (Dense)              (None, 784)               79184     \n",
      "=================================================================\n",
      "Total params: 157,684\n",
      "Trainable params: 157,684\n",
      "Non-trainable params: 0\n",
      "_________________________________________________________________\n"
     ]
    },
    {
     "name": "stderr",
     "output_type": "stream",
     "text": [
      "2022-05-05 13:39:01.795437: I tensorflow/stream_executor/cuda/cuda_gpu_executor.cc:937] successful NUMA node read from SysFS had negative value (-1), but there must be at least one NUMA node, so returning NUMA node zero\n",
      "2022-05-05 13:39:01.796386: I tensorflow/stream_executor/cuda/cuda_gpu_executor.cc:937] successful NUMA node read from SysFS had negative value (-1), but there must be at least one NUMA node, so returning NUMA node zero\n",
      "2022-05-05 13:39:01.797739: I tensorflow/core/platform/cpu_feature_guard.cc:142] This TensorFlow binary is optimized with oneAPI Deep Neural Network Library (oneDNN) to use the following CPU instructions in performance-critical operations:  AVX2 AVX512F FMA\n",
      "To enable them in other operations, rebuild TensorFlow with the appropriate compiler flags.\n",
      "2022-05-05 13:39:01.798519: I tensorflow/stream_executor/cuda/cuda_gpu_executor.cc:937] successful NUMA node read from SysFS had negative value (-1), but there must be at least one NUMA node, so returning NUMA node zero\n",
      "2022-05-05 13:39:01.799369: I tensorflow/stream_executor/cuda/cuda_gpu_executor.cc:937] successful NUMA node read from SysFS had negative value (-1), but there must be at least one NUMA node, so returning NUMA node zero\n",
      "2022-05-05 13:39:01.800250: I tensorflow/stream_executor/cuda/cuda_gpu_executor.cc:937] successful NUMA node read from SysFS had negative value (-1), but there must be at least one NUMA node, so returning NUMA node zero\n",
      "2022-05-05 13:39:03.540037: I tensorflow/stream_executor/cuda/cuda_gpu_executor.cc:937] successful NUMA node read from SysFS had negative value (-1), but there must be at least one NUMA node, so returning NUMA node zero\n",
      "2022-05-05 13:39:03.540882: I tensorflow/stream_executor/cuda/cuda_gpu_executor.cc:937] successful NUMA node read from SysFS had negative value (-1), but there must be at least one NUMA node, so returning NUMA node zero\n",
      "2022-05-05 13:39:03.541561: I tensorflow/stream_executor/cuda/cuda_gpu_executor.cc:937] successful NUMA node read from SysFS had negative value (-1), but there must be at least one NUMA node, so returning NUMA node zero\n",
      "2022-05-05 13:39:03.542169: I tensorflow/core/common_runtime/gpu/gpu_device.cc:1510] Created device /job:localhost/replica:0/task:0/device:GPU:0 with 15403 MB memory:  -> device: 0, name: Tesla P100-PCIE-16GB, pci bus id: 0000:00:04.0, compute capability: 6.0\n"
     ]
    }
   ],
   "source": [
    "input_main=Input(shape=(784,))\n",
    "h1=Dense(units=100, activation='sigmoid')(input_main)\n",
    "o1=Dense(units=784, activation='sigmoid')(h1)\n",
    "autoencoder1=Model(inputs=input_main, outputs=o1)\n",
    "autoencoder1.summary()\n",
    "autoencoder1.compile(loss='mse', optimizer='adam', metrics=['accuracy'])"
   ]
  },
  {
   "cell_type": "code",
   "execution_count": 4,
   "id": "229e0e85",
   "metadata": {
    "execution": {
     "iopub.execute_input": "2022-05-05T13:39:03.917405Z",
     "iopub.status.busy": "2022-05-05T13:39:03.916051Z",
     "iopub.status.idle": "2022-05-05T13:39:03.935325Z",
     "shell.execute_reply": "2022-05-05T13:39:03.934903Z",
     "shell.execute_reply.started": "2022-05-05T13:32:56.827667Z"
    },
    "id": "uGHOjA6HBD_Z",
    "outputId": "fbf1d077-897b-4a90-baa0-d24b359520dc",
    "papermill": {
     "duration": 0.038731,
     "end_time": "2022-05-05T13:39:03.935439",
     "exception": false,
     "start_time": "2022-05-05T13:39:03.896708",
     "status": "completed"
    },
    "tags": []
   },
   "outputs": [
    {
     "name": "stdout",
     "output_type": "stream",
     "text": [
      "<class 'list'>\n",
      "<class 'list'>\n",
      "<class 'list'>\n",
      "0\n",
      "2\n",
      "2\n",
      "<class 'numpy.ndarray'>\n",
      "<class 'numpy.ndarray'>\n",
      "(784, 100)\n",
      "(100,)\n",
      "<class 'numpy.ndarray'>\n",
      "<class 'numpy.ndarray'>\n",
      "(100, 784)\n",
      "(784,)\n",
      "-0.0029555783\n",
      "0.0\n",
      "0.07070942\n",
      "0.0\n"
     ]
    }
   ],
   "source": [
    "print(type(autoencoder1.layers[0].get_weights()))\n",
    "print(type(autoencoder1.layers[1].get_weights()))\n",
    "print(type(autoencoder1.layers[2].get_weights()))\n",
    "\n",
    "print(len(autoencoder1.layers[0].get_weights()))\n",
    "print(len(autoencoder1.layers[1].get_weights()))\n",
    "print(len(autoencoder1.layers[2].get_weights()))\n",
    "\n",
    "print(type(autoencoder1.layers[1].get_weights()[0]))\n",
    "print(type(autoencoder1.layers[1].get_weights()[1]))\n",
    "print(autoencoder1.layers[1].get_weights()[0].shape)\n",
    "print(autoencoder1.layers[1].get_weights()[1].shape)\n",
    "\n",
    "print(type(autoencoder1.layers[2].get_weights()[0]))\n",
    "print(type(autoencoder1.layers[2].get_weights()[1]))\n",
    "print(autoencoder1.layers[2].get_weights()[0].shape)\n",
    "print(autoencoder1.layers[2].get_weights()[1].shape)\n",
    "\n",
    "print(autoencoder1.layers[1].get_weights()[0][50,50])\n",
    "print(autoencoder1.layers[1].get_weights()[1][10])\n",
    "print(autoencoder1.layers[2].get_weights()[0][50,50])\n",
    "print(autoencoder1.layers[2].get_weights()[1][10])\n",
    "\n"
   ]
  },
  {
   "cell_type": "code",
   "execution_count": 5,
   "id": "0e1f6311",
   "metadata": {
    "execution": {
     "iopub.execute_input": "2022-05-05T13:39:03.964859Z",
     "iopub.status.busy": "2022-05-05T13:39:03.962907Z",
     "iopub.status.idle": "2022-05-05T13:39:48.455936Z",
     "shell.execute_reply": "2022-05-05T13:39:48.456510Z",
     "shell.execute_reply.started": "2022-05-05T13:32:56.872053Z"
    },
    "id": "yEYuy6RNIYyT",
    "outputId": "f84bc9b5-ecc1-4a53-e28e-b2bf6dd350ab",
    "papermill": {
     "duration": 44.511022,
     "end_time": "2022-05-05T13:39:48.456707",
     "exception": false,
     "start_time": "2022-05-05T13:39:03.945685",
     "status": "completed"
    },
    "tags": []
   },
   "outputs": [
    {
     "name": "stdout",
     "output_type": "stream",
     "text": [
      "Training Autoencoder1:\n"
     ]
    },
    {
     "name": "stderr",
     "output_type": "stream",
     "text": [
      "2022-05-05 13:39:04.658127: I tensorflow/compiler/mlir/mlir_graph_optimization_pass.cc:185] None of the MLIR Optimization Passes are enabled (registered 2)\n"
     ]
    },
    {
     "name": "stdout",
     "output_type": "stream",
     "text": [
      "Epoch 1/10\n",
      "1875/1875 [==============================] - 4s 2ms/step - loss: 0.0427 - accuracy: 0.0126\n",
      "Epoch 2/10\n",
      "1875/1875 [==============================] - 3s 2ms/step - loss: 0.0193 - accuracy: 0.0114\n",
      "Epoch 3/10\n",
      "1875/1875 [==============================] - 3s 2ms/step - loss: 0.0127 - accuracy: 0.0126\n",
      "Epoch 4/10\n",
      "1875/1875 [==============================] - 3s 2ms/step - loss: 0.0097 - accuracy: 0.0135\n",
      "Epoch 5/10\n",
      "1875/1875 [==============================] - 3s 2ms/step - loss: 0.0079 - accuracy: 0.0136\n",
      "Epoch 6/10\n",
      "1875/1875 [==============================] - 3s 2ms/step - loss: 0.0065 - accuracy: 0.0137\n",
      "Epoch 7/10\n",
      "1875/1875 [==============================] - 3s 2ms/step - loss: 0.0053 - accuracy: 0.0139\n",
      "Epoch 8/10\n",
      "1875/1875 [==============================] - 3s 2ms/step - loss: 0.0045 - accuracy: 0.0141\n",
      "Epoch 9/10\n",
      "1875/1875 [==============================] - 3s 2ms/step - loss: 0.0039 - accuracy: 0.0140\n",
      "Epoch 10/10\n",
      "1875/1875 [==============================] - 3s 2ms/step - loss: 0.0035 - accuracy: 0.0141\n",
      "0.015520572\n",
      "0.045835737\n",
      "-0.07920988\n",
      "-0.17001265\n",
      "(60000, 100)\n",
      "(100, 50)\n",
      "(50, 100)\n"
     ]
    }
   ],
   "source": [
    "print(\"Training Autoencoder1:\")\n",
    "autoencoder1.fit(x_train,x_train,epochs=10)\n",
    "\n",
    "print(autoencoder1.layers[1].get_weights()[0][50,50])\n",
    "print(autoencoder1.layers[1].get_weights()[1][10])\n",
    "print(autoencoder1.layers[2].get_weights()[0][50,50])\n",
    "print(autoencoder1.layers[2].get_weights()[1][10])\n",
    "\n",
    "autoencoder1_hidden_output=autoencoder1.layers[1].output\n",
    "trimmed_autoencoder1=Model(inputs=input_main, outputs=autoencoder1_hidden_output)\n",
    "x_train_ae2=trimmed_autoencoder1.predict(x_train)\n",
    "x_test_ae2=trimmed_autoencoder1.predict(x_test)\n",
    "print(x_train_ae2.shape)\n",
    "\n",
    "\n",
    "inputs_ae2=Input(shape=(100,))\n",
    "h2=Dense(units=50, activation='sigmoid')(inputs_ae2)\n",
    "o2=Dense(units=100, activation='sigmoid')(h2)\n",
    "autoencoder2=Model(inputs=inputs_ae2, outputs=o2)\n",
    "autoencoder2.compile(loss='mse', optimizer='adam', metrics=['accuracy'])\n",
    "print(autoencoder2.layers[1].get_weights()[0].shape)\n",
    "print(autoencoder2.layers[2].get_weights()[0].shape)\n",
    "\n"
   ]
  },
  {
   "cell_type": "code",
   "execution_count": 6,
   "id": "c4294711",
   "metadata": {
    "execution": {
     "iopub.execute_input": "2022-05-05T13:39:48.851090Z",
     "iopub.status.busy": "2022-05-05T13:39:48.850059Z",
     "iopub.status.idle": "2022-05-05T13:41:13.370939Z",
     "shell.execute_reply": "2022-05-05T13:41:13.371375Z",
     "shell.execute_reply.started": "2022-05-05T13:33:42.230091Z"
    },
    "id": "mTPTRHCmIgKZ",
    "outputId": "fafb5fe8-3567-4c7c-b339-b618400305af",
    "papermill": {
     "duration": 84.720598,
     "end_time": "2022-05-05T13:41:13.371516",
     "exception": false,
     "start_time": "2022-05-05T13:39:48.650918",
     "status": "completed"
    },
    "tags": []
   },
   "outputs": [
    {
     "name": "stdout",
     "output_type": "stream",
     "text": [
      "Training Autoencoder2:\n",
      "Epoch 1/15\n",
      "1875/1875 [==============================] - 3s 1ms/step - loss: 0.0539 - accuracy: 0.0339\n",
      "Epoch 2/15\n",
      "1875/1875 [==============================] - 3s 1ms/step - loss: 0.0296 - accuracy: 0.0798\n",
      "Epoch 3/15\n",
      "1875/1875 [==============================] - 3s 2ms/step - loss: 0.0245 - accuracy: 0.1174\n",
      "Epoch 4/15\n",
      "1875/1875 [==============================] - 3s 1ms/step - loss: 0.0232 - accuracy: 0.1321\n",
      "Epoch 5/15\n",
      "1875/1875 [==============================] - 3s 1ms/step - loss: 0.0225 - accuracy: 0.1396\n",
      "Epoch 6/15\n",
      "1875/1875 [==============================] - 3s 2ms/step - loss: 0.0220 - accuracy: 0.1440\n",
      "Epoch 7/15\n",
      "1875/1875 [==============================] - 3s 2ms/step - loss: 0.0217 - accuracy: 0.1485\n",
      "Epoch 8/15\n",
      "1875/1875 [==============================] - 3s 2ms/step - loss: 0.0214 - accuracy: 0.1514\n",
      "Epoch 9/15\n",
      "1875/1875 [==============================] - 3s 1ms/step - loss: 0.0212 - accuracy: 0.1541\n",
      "Epoch 10/15\n",
      "1875/1875 [==============================] - 3s 2ms/step - loss: 0.0210 - accuracy: 0.1548\n",
      "Epoch 11/15\n",
      "1875/1875 [==============================] - 3s 2ms/step - loss: 0.0209 - accuracy: 0.1560\n",
      "Epoch 12/15\n",
      "1875/1875 [==============================] - 3s 1ms/step - loss: 0.0207 - accuracy: 0.1571\n",
      "Epoch 13/15\n",
      "1875/1875 [==============================] - 3s 1ms/step - loss: 0.0206 - accuracy: 0.1576\n",
      "Epoch 14/15\n",
      "1875/1875 [==============================] - 3s 2ms/step - loss: 0.0205 - accuracy: 0.1592\n",
      "Epoch 15/15\n",
      "1875/1875 [==============================] - 3s 1ms/step - loss: 0.0204 - accuracy: 0.1593\n",
      "(60000, 50)\n",
      "(50, 10)\n"
     ]
    }
   ],
   "source": [
    "print(\"Training Autoencoder2:\")\n",
    "autoencoder2.fit(x_train_ae2, x_train_ae2, epochs=15)\n",
    "\n",
    "autoencoder2_hidden_output=autoencoder2.layers[1].output\n",
    "trimmed_autoencoder2=Model(inputs=inputs_ae2, outputs=autoencoder2_hidden_output)\n",
    "x_train_clf=trimmed_autoencoder2.predict(x_train_ae2)\n",
    "x_test_clf=trimmed_autoencoder2.predict(x_test_ae2)\n",
    "print(x_train_clf.shape)\n",
    "\n",
    "inputs_clf=Input(shape=(50,))\n",
    "f_output=Dense(units=10, activation='softmax')(inputs_clf)\n",
    "clf=Model(inputs=inputs_clf, outputs=f_output)\n",
    "clf.compile(loss='categorical_crossentropy', optimizer='adam', metrics=['accuracy'])\n",
    "print(clf.layers[1].get_weights()[0].shape)\n"
   ]
  },
  {
   "cell_type": "code",
   "execution_count": 7,
   "id": "2e702a7e",
   "metadata": {
    "execution": {
     "iopub.execute_input": "2022-05-05T13:41:14.308131Z",
     "iopub.status.busy": "2022-05-05T13:41:14.307342Z",
     "iopub.status.idle": "2022-05-05T13:43:30.624605Z",
     "shell.execute_reply": "2022-05-05T13:43:30.624160Z",
     "shell.execute_reply.started": "2022-05-05T13:34:43.180921Z"
    },
    "id": "wRNUswpwIj1i",
    "outputId": "a330b8f1-9385-46c8-cb47-bd7cbab23d2a",
    "papermill": {
     "duration": 136.791947,
     "end_time": "2022-05-05T13:43:30.624743",
     "exception": false,
     "start_time": "2022-05-05T13:41:13.832796",
     "status": "completed"
    },
    "tags": []
   },
   "outputs": [
    {
     "name": "stdout",
     "output_type": "stream",
     "text": [
      "Training Classifier:\n",
      "Epoch 1/20\n",
      "1875/1875 [==============================] - 4s 2ms/step - loss: 1.7075 - accuracy: 0.6056\n",
      "Epoch 2/20\n",
      "1875/1875 [==============================] - 3s 2ms/step - loss: 1.0404 - accuracy: 0.8146\n",
      "Epoch 3/20\n",
      "1875/1875 [==============================] - 3s 2ms/step - loss: 0.7810 - accuracy: 0.8370\n",
      "Epoch 4/20\n",
      "1875/1875 [==============================] - 3s 2ms/step - loss: 0.6577 - accuracy: 0.8470\n",
      "Epoch 5/20\n",
      "1875/1875 [==============================] - 3s 2ms/step - loss: 0.5883 - accuracy: 0.8544\n",
      "Epoch 6/20\n",
      "1875/1875 [==============================] - 3s 2ms/step - loss: 0.5451 - accuracy: 0.8588\n",
      "Epoch 7/20\n",
      "1875/1875 [==============================] - 3s 2ms/step - loss: 0.5154 - accuracy: 0.8628\n",
      "Epoch 8/20\n",
      "1875/1875 [==============================] - 3s 2ms/step - loss: 0.4943 - accuracy: 0.8657\n",
      "Epoch 9/20\n",
      "1875/1875 [==============================] - 3s 2ms/step - loss: 0.4784 - accuracy: 0.8676\n",
      "Epoch 10/20\n",
      "1875/1875 [==============================] - 3s 2ms/step - loss: 0.4657 - accuracy: 0.8695\n",
      "Epoch 11/20\n",
      "1875/1875 [==============================] - 4s 2ms/step - loss: 0.4556 - accuracy: 0.8709\n",
      "Epoch 12/20\n",
      "1875/1875 [==============================] - 3s 2ms/step - loss: 0.4472 - accuracy: 0.8726\n",
      "Epoch 13/20\n",
      "1875/1875 [==============================] - 3s 2ms/step - loss: 0.4403 - accuracy: 0.8731\n",
      "Epoch 14/20\n",
      "1875/1875 [==============================] - 3s 2ms/step - loss: 0.4345 - accuracy: 0.8749\n",
      "Epoch 15/20\n",
      "1875/1875 [==============================] - 3s 2ms/step - loss: 0.4296 - accuracy: 0.8754\n",
      "Epoch 16/20\n",
      "1875/1875 [==============================] - 3s 2ms/step - loss: 0.4251 - accuracy: 0.8763\n",
      "Epoch 17/20\n",
      "1875/1875 [==============================] - 3s 2ms/step - loss: 0.4215 - accuracy: 0.8772\n",
      "Epoch 18/20\n",
      "1875/1875 [==============================] - 3s 2ms/step - loss: 0.4180 - accuracy: 0.8776\n",
      "Epoch 19/20\n",
      "1875/1875 [==============================] - 3s 2ms/step - loss: 0.4151 - accuracy: 0.8780\n",
      "Epoch 20/20\n",
      "1875/1875 [==============================] - 3s 2ms/step - loss: 0.4123 - accuracy: 0.8779\n",
      "313/313 [==============================] - 1s 2ms/step - loss: 0.3888 - accuracy: 0.8864\n",
      "[0.38880103826522827, 0.8863999843597412]\n",
      "Model: \"sequential\"\n",
      "_________________________________________________________________\n",
      "Layer (type)                 Output Shape              Param #   \n",
      "=================================================================\n",
      "dense (Dense)                (None, 100)               78500     \n",
      "_________________________________________________________________\n",
      "dense_2 (Dense)              (None, 50)                5050      \n",
      "_________________________________________________________________\n",
      "dense_4 (Dense)              (None, 10)                510       \n",
      "=================================================================\n",
      "Total params: 84,060\n",
      "Trainable params: 84,060\n",
      "Non-trainable params: 0\n",
      "_________________________________________________________________\n",
      "(100, 50)\n",
      "(100, 50)\n",
      "Fine tuning:\n",
      "Epoch 1/20\n",
      "1875/1875 [==============================] - 4s 2ms/step - loss: 0.2733 - accuracy: 0.9178\n",
      "Epoch 2/20\n",
      "1875/1875 [==============================] - 4s 2ms/step - loss: 0.1671 - accuracy: 0.9512\n",
      "Epoch 3/20\n",
      "1875/1875 [==============================] - 4s 2ms/step - loss: 0.1216 - accuracy: 0.9641\n",
      "Epoch 4/20\n",
      "1875/1875 [==============================] - 4s 2ms/step - loss: 0.0937 - accuracy: 0.9728\n",
      "Epoch 5/20\n",
      "1875/1875 [==============================] - 3s 2ms/step - loss: 0.0750 - accuracy: 0.9774\n",
      "Epoch 6/20\n",
      "1875/1875 [==============================] - 3s 2ms/step - loss: 0.0606 - accuracy: 0.9817\n",
      "Epoch 7/20\n",
      "1875/1875 [==============================] - 4s 2ms/step - loss: 0.0497 - accuracy: 0.9854\n",
      "Epoch 8/20\n",
      "1875/1875 [==============================] - 3s 2ms/step - loss: 0.0408 - accuracy: 0.9882\n",
      "Epoch 9/20\n",
      "1875/1875 [==============================] - 4s 2ms/step - loss: 0.0322 - accuracy: 0.9907\n",
      "Epoch 10/20\n",
      "1875/1875 [==============================] - 4s 2ms/step - loss: 0.0278 - accuracy: 0.9923\n",
      "Epoch 11/20\n",
      "1875/1875 [==============================] - 4s 2ms/step - loss: 0.0228 - accuracy: 0.9936\n",
      "Epoch 12/20\n",
      "1875/1875 [==============================] - 3s 2ms/step - loss: 0.0189 - accuracy: 0.9948\n",
      "Epoch 13/20\n",
      "1875/1875 [==============================] - 4s 2ms/step - loss: 0.0158 - accuracy: 0.9959\n",
      "Epoch 14/20\n",
      "1875/1875 [==============================] - 3s 2ms/step - loss: 0.0133 - accuracy: 0.9967\n",
      "Epoch 15/20\n",
      "1875/1875 [==============================] - 3s 2ms/step - loss: 0.0119 - accuracy: 0.9970\n",
      "Epoch 16/20\n",
      "1875/1875 [==============================] - 4s 2ms/step - loss: 0.0094 - accuracy: 0.9979\n",
      "Epoch 17/20\n",
      "1875/1875 [==============================] - 3s 2ms/step - loss: 0.0080 - accuracy: 0.9983\n",
      "Epoch 18/20\n",
      "1875/1875 [==============================] - 3s 2ms/step - loss: 0.0061 - accuracy: 0.9989\n",
      "Epoch 19/20\n",
      "1875/1875 [==============================] - 4s 2ms/step - loss: 0.0066 - accuracy: 0.9984\n",
      "Epoch 20/20\n",
      "1875/1875 [==============================] - 4s 2ms/step - loss: 0.0057 - accuracy: 0.9988\n",
      "313/313 [==============================] - 1s 2ms/step - loss: 0.1094 - accuracy: 0.9748\n",
      "[0.1094435453414917, 0.9747999906539917]\n"
     ]
    }
   ],
   "source": [
    "print(\"Training Classifier:\")\n",
    "clf.fit(x_train_clf, y_train, epochs=20)\n",
    "\n",
    "\n",
    "print(clf.evaluate(x_test_clf,y_test))\n",
    "\n",
    "\n",
    "new_model=Sequential()\n",
    "new_model.add(autoencoder1.layers[0])\n",
    "new_model.add(autoencoder1.layers[1])\n",
    "new_model.add(autoencoder2.layers[1])\n",
    "new_model.add(clf.layers[-1])\n",
    "new_model.summary()\n",
    "new_model.compile(loss='categorical_crossentropy', metrics=['accuracy'], optimizer='adam')\n",
    "print(new_model.layers[1].get_weights()[0].shape)\n",
    "print(autoencoder2.layers[1].get_weights()[0].shape)\n",
    "print(\"Fine tuning:\")\n",
    "new_model.fit(x_train, y_train, epochs=20)\n",
    "\n",
    "\n",
    "print(new_model.evaluate(x_test, y_test))"
   ]
  }
 ],
 "metadata": {
  "kernelspec": {
   "display_name": "Python 3 (ipykernel)",
   "language": "python",
   "name": "python3"
  },
  "language_info": {
   "codemirror_mode": {
    "name": "ipython",
    "version": 3
   },
   "file_extension": ".py",
   "mimetype": "text/x-python",
   "name": "python",
   "nbconvert_exporter": "python",
   "pygments_lexer": "ipython3",
   "version": "3.9.4"
  },
  "papermill": {
   "default_parameters": {},
   "duration": 287.394065,
   "end_time": "2022-05-05T13:43:34.847358",
   "environment_variables": {},
   "exception": null,
   "input_path": "__notebook__.ipynb",
   "output_path": "__notebook__.ipynb",
   "parameters": {},
   "start_time": "2022-05-05T13:38:47.453293",
   "version": "2.3.3"
  }
 },
 "nbformat": 4,
 "nbformat_minor": 5
}
